{
 "cells": [
  {
   "cell_type": "code",
   "execution_count": 5,
   "id": "73dc2606",
   "metadata": {},
   "outputs": [
    {
     "name": "stdout",
     "output_type": "stream",
     "text": [
      "Requirement already satisfied: moviepy in c:\\users\\vinee\\anaconda3\\lib\\site-packages (1.0.3)\n",
      "Requirement already satisfied: numpy in c:\\users\\vinee\\anaconda3\\lib\\site-packages (from moviepy) (1.23.5)\n",
      "Requirement already satisfied: tqdm<5.0,>=4.11.2 in c:\\users\\vinee\\anaconda3\\lib\\site-packages (from moviepy) (4.64.1)\n",
      "Requirement already satisfied: proglog<=1.0.0 in c:\\users\\vinee\\anaconda3\\lib\\site-packages (from moviepy) (0.1.10)\n",
      "Requirement already satisfied: decorator<5.0,>=4.0.2 in c:\\users\\vinee\\anaconda3\\lib\\site-packages (from moviepy) (4.4.2)\n",
      "Requirement already satisfied: imageio<3.0,>=2.5 in c:\\users\\vinee\\anaconda3\\lib\\site-packages (from moviepy) (2.26.0)\n",
      "Requirement already satisfied: imageio-ffmpeg>=0.2.0 in c:\\users\\vinee\\anaconda3\\lib\\site-packages (from moviepy) (0.4.9)\n",
      "Requirement already satisfied: requests<3.0,>=2.8.1 in c:\\users\\vinee\\anaconda3\\lib\\site-packages (from moviepy) (2.28.1)\n",
      "Requirement already satisfied: pillow>=8.3.2 in c:\\users\\vinee\\anaconda3\\lib\\site-packages (from imageio<3.0,>=2.5->moviepy) (9.4.0)\n",
      "Requirement already satisfied: setuptools in c:\\users\\vinee\\anaconda3\\lib\\site-packages (from imageio-ffmpeg>=0.2.0->moviepy) (65.6.3)\n",
      "Requirement already satisfied: urllib3<1.27,>=1.21.1 in c:\\users\\vinee\\anaconda3\\lib\\site-packages (from requests<3.0,>=2.8.1->moviepy) (1.26.14)\n",
      "Requirement already satisfied: charset-normalizer<3,>=2 in c:\\users\\vinee\\anaconda3\\lib\\site-packages (from requests<3.0,>=2.8.1->moviepy) (2.0.4)\n",
      "Requirement already satisfied: idna<4,>=2.5 in c:\\users\\vinee\\anaconda3\\lib\\site-packages (from requests<3.0,>=2.8.1->moviepy) (3.4)\n",
      "Requirement already satisfied: certifi>=2017.4.17 in c:\\users\\vinee\\anaconda3\\lib\\site-packages (from requests<3.0,>=2.8.1->moviepy) (2022.12.7)\n",
      "Requirement already satisfied: colorama in c:\\users\\vinee\\anaconda3\\lib\\site-packages (from tqdm<5.0,>=4.11.2->moviepy) (0.4.6)\n",
      "Note: you may need to restart the kernel to use updated packages.\n"
     ]
    },
    {
     "name": "stderr",
     "output_type": "stream",
     "text": [
      "WARNING: Ignoring invalid distribution -cipy (c:\\users\\vinee\\anaconda3\\lib\\site-packages)\n",
      "WARNING: Ignoring invalid distribution -cipy (c:\\users\\vinee\\anaconda3\\lib\\site-packages)\n",
      "WARNING: Ignoring invalid distribution -cipy (c:\\users\\vinee\\anaconda3\\lib\\site-packages)\n",
      "WARNING: Ignoring invalid distribution -cipy (c:\\users\\vinee\\anaconda3\\lib\\site-packages)\n",
      "WARNING: Ignoring invalid distribution -cipy (c:\\users\\vinee\\anaconda3\\lib\\site-packages)\n",
      "WARNING: Ignoring invalid distribution -cipy (c:\\users\\vinee\\anaconda3\\lib\\site-packages)\n"
     ]
    }
   ],
   "source": [
    "pip install moviepy"
   ]
  },
  {
   "cell_type": "code",
   "execution_count": 6,
   "id": "e7071ba7",
   "metadata": {},
   "outputs": [],
   "source": [
    "from moviepy.editor import VideoFileClip\n",
    "import os"
   ]
  },
  {
   "cell_type": "code",
   "execution_count": 7,
   "id": "9b9639cd",
   "metadata": {},
   "outputs": [],
   "source": [
    "# Replace with your input video file path\n",
    "input_video_path = \"This Used to Be a City in Ukraine shorts.mp4\"\n"
   ]
  },
  {
   "cell_type": "code",
   "execution_count": 8,
   "id": "51902931",
   "metadata": {},
   "outputs": [],
   "source": [
    "# Replace with the desired output audio file name\n",
    "output_audio_path = 'output_audio.wav'"
   ]
  },
  {
   "cell_type": "code",
   "execution_count": 9,
   "id": "8658da5e",
   "metadata": {},
   "outputs": [
    {
     "name": "stdout",
     "output_type": "stream",
     "text": [
      "MoviePy - Writing audio in output_audio.wav\n"
     ]
    },
    {
     "name": "stderr",
     "output_type": "stream",
     "text": [
      "                                                                                                                       "
     ]
    },
    {
     "name": "stdout",
     "output_type": "stream",
     "text": [
      "MoviePy - Done.\n"
     ]
    },
    {
     "name": "stderr",
     "output_type": "stream",
     "text": [
      "\r"
     ]
    }
   ],
   "source": [
    "\n",
    "# Load the video clip\n",
    "video_clip = VideoFileClip(input_video_path)\n",
    "\n",
    "# Extract audio from the video\n",
    "audio_clip = video_clip.audio\n",
    "\n",
    "# Write the audio to a WAV file\n",
    "audio_clip.write_audiofile(output_audio_path, codec='pcm_s16le')\n",
    "\n",
    "# Close the video and audio clips\n",
    "video_clip.close()\n",
    "audio_clip.close()\n",
    "\n"
   ]
  },
  {
   "cell_type": "code",
   "execution_count": 10,
   "id": "393a0dfe",
   "metadata": {},
   "outputs": [
    {
     "name": "stdout",
     "output_type": "stream",
     "text": [
      "Audio extracted and saved as: output_audio.wav\n"
     ]
    }
   ],
   "source": [
    "print(\"Audio extracted and saved as:\", output_audio_path)\n"
   ]
  },
  {
   "cell_type": "code",
   "execution_count": null,
   "id": "0f0dc6a8",
   "metadata": {},
   "outputs": [],
   "source": []
  },
  {
   "cell_type": "code",
   "execution_count": null,
   "id": "c30cad80",
   "metadata": {},
   "outputs": [],
   "source": []
  }
 ],
 "metadata": {
  "kernelspec": {
   "display_name": "Python 3 (ipykernel)",
   "language": "python",
   "name": "python3"
  },
  "language_info": {
   "codemirror_mode": {
    "name": "ipython",
    "version": 3
   },
   "file_extension": ".py",
   "mimetype": "text/x-python",
   "name": "python",
   "nbconvert_exporter": "python",
   "pygments_lexer": "ipython3",
   "version": "3.10.9"
  }
 },
 "nbformat": 4,
 "nbformat_minor": 5
}
