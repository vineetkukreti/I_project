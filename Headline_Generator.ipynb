{
 "cells": [
  {
   "cell_type": "markdown",
   "metadata": {
    "id": "view-in-github"
   },
   "source": [
    "<a href=\"https://colab.research.google.com/github/ksgr5566/News-Headline-Generator/blob/main/Headline_Generator.ipynb\" target=\"_parent\"><img src=\"https://colab.research.google.com/assets/colab-badge.svg\" alt=\"Open In Colab\"/></a>"
   ]
  },
  {
   "cell_type": "code",
   "execution_count": 1,
   "metadata": {
    "colab": {
     "base_uri": "https://localhost:8080/"
    },
    "id": "AJNkoQbb7Bv4",
    "outputId": "b5ecefe2-2162-4ad4-a52b-3af16b77ac5f"
   },
   "outputs": [
    {
     "name": "stderr",
     "output_type": "stream",
     "text": [
      "WARNING: Ignoring invalid distribution -cipy (c:\\users\\vinee\\anaconda3\\lib\\site-packages)\n",
      "WARNING: Ignoring invalid distribution -cipy (c:\\users\\vinee\\anaconda3\\lib\\site-packages)\n",
      "WARNING: Ignoring invalid distribution -cipy (c:\\users\\vinee\\anaconda3\\lib\\site-packages)\n",
      "WARNING: Ignoring invalid distribution -cipy (c:\\users\\vinee\\anaconda3\\lib\\site-packages)\n",
      "WARNING: Ignoring invalid distribution -cipy (c:\\users\\vinee\\anaconda3\\lib\\site-packages)\n",
      "WARNING: Ignoring invalid distribution -cipy (c:\\users\\vinee\\anaconda3\\lib\\site-packages)\n",
      "WARNING: Ignoring invalid distribution -cipy (c:\\users\\vinee\\anaconda3\\lib\\site-packages)\n",
      "WARNING: Ignoring invalid distribution -cipy (c:\\users\\vinee\\anaconda3\\lib\\site-packages)\n",
      "WARNING: Ignoring invalid distribution -cipy (c:\\users\\vinee\\anaconda3\\lib\\site-packages)\n",
      "WARNING: Ignoring invalid distribution -cipy (c:\\users\\vinee\\anaconda3\\lib\\site-packages)\n",
      "WARNING: Ignoring invalid distribution -cipy (c:\\users\\vinee\\anaconda3\\lib\\site-packages)\n",
      "WARNING: Ignoring invalid distribution -cipy (c:\\users\\vinee\\anaconda3\\lib\\site-packages)\n",
      "WARNING: Ignoring invalid distribution -cipy (c:\\users\\vinee\\anaconda3\\lib\\site-packages)\n",
      "WARNING: Ignoring invalid distribution -cipy (c:\\users\\vinee\\anaconda3\\lib\\site-packages)\n",
      "WARNING: Ignoring invalid distribution -cipy (c:\\users\\vinee\\anaconda3\\lib\\site-packages)\n"
     ]
    }
   ],
   "source": [
    "!pip install --quiet transformers\n",
    "!pip install --quiet pytorch-lightning"
   ]
  },
  {
   "cell_type": "code",
   "execution_count": 2,
   "metadata": {
    "id": "4vNFCUEN7Lnm"
   },
   "outputs": [],
   "source": [
    "import pandas as pd\n",
    "import numpy as np\n",
    "import torch\n",
    "from pathlib import Path\n",
    "from torch.utils.data import Dataset, DataLoader\n",
    "import pytorch_lightning as pl\n",
    "from sklearn.model_selection import train_test_split\n",
    "\n",
    "from transformers import (\n",
    "    T5ForConditionalGeneration,\n",
    "    T5TokenizerFast as T5Tokenizer\n",
    ")\n",
    "\n",
    "from pytorch_lightning.callbacks import ModelCheckpoint\n",
    "from pytorch_lightning.loggers import TensorBoardLogger"
   ]
  },
  {
   "cell_type": "code",
   "execution_count": 3,
   "metadata": {
    "id": "lgxhIyBN8SkM"
   },
   "outputs": [],
   "source": [
    "import matplotlib.pyplot as plt\n",
    "import seaborn as sns\n",
    "from tqdm.auto import tqdm"
   ]
  },
  {
   "cell_type": "code",
   "execution_count": 4,
   "metadata": {
    "colab": {
     "base_uri": "https://localhost:8080/"
    },
    "id": "qz3c8EN4N7mW",
    "outputId": "c9bc00df-6b37-40b7-85f4-94cd663ab201"
   },
   "outputs": [
    {
     "name": "stderr",
     "output_type": "stream",
     "text": [
      "Global seed set to 42\n"
     ]
    },
    {
     "data": {
      "text/plain": [
       "42"
      ]
     },
     "execution_count": 4,
     "metadata": {},
     "output_type": "execute_result"
    }
   ],
   "source": [
    "pl.seed_everything(42)"
   ]
  },
  {
   "cell_type": "markdown",
   "metadata": {
    "id": "hhTv76tvM7Xi"
   },
   "source": [
    "# Preparing Data"
   ]
  },
  {
   "cell_type": "markdown",
   "metadata": {
    "id": "di8aw7XG-yKp"
   },
   "source": [
    "Dataset link: https://huggingface.co/datasets/valurank/News_headlines"
   ]
  },
  {
   "cell_type": "code",
   "execution_count": 7,
   "metadata": {},
   "outputs": [
    {
     "name": "stdout",
     "output_type": "stream",
     "text": [
      "Collecting google-auth\n",
      "  Downloading google_auth-2.23.1-py2.py3-none-any.whl (181 kB)\n",
      "     -------------------------------------- 181.9/181.9 kB 1.1 MB/s eta 0:00:00\n",
      "Collecting google-auth-oauthlib\n",
      "  Downloading google_auth_oauthlib-1.1.0-py2.py3-none-any.whl (19 kB)\n",
      "Collecting google-auth-httplib2\n",
      "  Downloading google_auth_httplib2-0.1.1-py2.py3-none-any.whl (9.3 kB)\n",
      "Collecting google-api-python-client\n",
      "  Downloading google_api_python_client-2.101.0-py2.py3-none-any.whl (12.3 MB)\n",
      "     -------------------------------------- 12.3/12.3 MB 804.0 kB/s eta 0:00:00\n",
      "Collecting cachetools<6.0,>=2.0.0\n",
      "  Downloading cachetools-5.3.1-py3-none-any.whl (9.3 kB)\n",
      "Requirement already satisfied: pyasn1-modules>=0.2.1 in c:\\users\\vinee\\anaconda3\\lib\\site-packages (from google-auth) (0.2.8)\n",
      "Collecting urllib3>=2.0.5\n",
      "  Downloading urllib3-2.0.5-py3-none-any.whl (123 kB)\n",
      "     -------------------------------------- 123.8/123.8 kB 1.2 MB/s eta 0:00:00\n",
      "Collecting rsa<5,>=3.1.4\n",
      "  Downloading rsa-4.9-py3-none-any.whl (34 kB)\n",
      "Collecting requests-oauthlib>=0.7.0\n",
      "  Downloading requests_oauthlib-1.3.1-py2.py3-none-any.whl (23 kB)\n",
      "Collecting httplib2>=0.19.0\n",
      "  Downloading httplib2-0.22.0-py3-none-any.whl (96 kB)\n",
      "     ---------------------------------------- 96.9/96.9 kB 1.4 MB/s eta 0:00:00\n",
      "Collecting google-api-core!=2.0.*,!=2.1.*,!=2.2.*,!=2.3.0,<3.0.0.dev0,>=1.31.5\n",
      "  Downloading google_api_core-2.12.0-py3-none-any.whl (121 kB)\n",
      "     ------------------------------------ 121.4/121.4 kB 788.7 kB/s eta 0:00:00\n",
      "Collecting uritemplate<5,>=3.0.1\n",
      "  Downloading uritemplate-4.1.1-py2.py3-none-any.whl (10 kB)\n",
      "Collecting protobuf!=3.20.0,!=3.20.1,!=4.21.0,!=4.21.1,!=4.21.2,!=4.21.3,!=4.21.4,!=4.21.5,<5.0.0.dev0,>=3.19.5\n",
      "  Downloading protobuf-4.24.3-cp310-abi3-win_amd64.whl (430 kB)\n",
      "     -------------------------------------- 430.5/430.5 kB 2.1 MB/s eta 0:00:00\n",
      "Collecting googleapis-common-protos<2.0.dev0,>=1.56.2\n",
      "  Downloading googleapis_common_protos-1.60.0-py2.py3-none-any.whl (227 kB)\n",
      "     -------------------------------------- 227.6/227.6 kB 1.3 MB/s eta 0:00:00\n",
      "Requirement already satisfied: requests<3.0.0.dev0,>=2.18.0 in c:\\users\\vinee\\anaconda3\\lib\\site-packages (from google-api-core!=2.0.*,!=2.1.*,!=2.2.*,!=2.3.0,<3.0.0.dev0,>=1.31.5->google-api-python-client) (2.28.1)\n",
      "Requirement already satisfied: pyparsing!=3.0.0,!=3.0.1,!=3.0.2,!=3.0.3,<4,>=2.4.2 in c:\\users\\vinee\\anaconda3\\lib\\site-packages (from httplib2>=0.19.0->google-auth-httplib2) (3.0.9)\n",
      "Requirement already satisfied: pyasn1<0.5.0,>=0.4.6 in c:\\users\\vinee\\anaconda3\\lib\\site-packages (from pyasn1-modules>=0.2.1->google-auth) (0.4.8)\n",
      "Collecting oauthlib>=3.0.0\n",
      "  Downloading oauthlib-3.2.2-py3-none-any.whl (151 kB)\n",
      "     -------------------------------------- 151.7/151.7 kB 1.0 MB/s eta 0:00:00\n",
      "Requirement already satisfied: idna<4,>=2.5 in c:\\users\\vinee\\anaconda3\\lib\\site-packages (from requests<3.0.0.dev0,>=2.18.0->google-api-core!=2.0.*,!=2.1.*,!=2.2.*,!=2.3.0,<3.0.0.dev0,>=1.31.5->google-api-python-client) (3.4)\n",
      "Collecting requests<3.0.0.dev0,>=2.18.0\n",
      "  Downloading requests-2.31.0-py3-none-any.whl (62 kB)\n",
      "     ---------------------------------------- 62.6/62.6 kB 1.7 MB/s eta 0:00:00\n",
      "Requirement already satisfied: charset-normalizer<4,>=2 in c:\\users\\vinee\\anaconda3\\lib\\site-packages (from requests<3.0.0.dev0,>=2.18.0->google-api-core!=2.0.*,!=2.1.*,!=2.2.*,!=2.3.0,<3.0.0.dev0,>=1.31.5->google-api-python-client) (2.0.4)\n",
      "Requirement already satisfied: certifi>=2017.4.17 in c:\\users\\vinee\\anaconda3\\lib\\site-packages (from requests<3.0.0.dev0,>=2.18.0->google-api-core!=2.0.*,!=2.1.*,!=2.2.*,!=2.3.0,<3.0.0.dev0,>=1.31.5->google-api-python-client) (2022.12.7)\n",
      "Installing collected packages: urllib3, uritemplate, rsa, protobuf, oauthlib, httplib2, cachetools, requests, googleapis-common-protos, google-auth, requests-oauthlib, google-auth-httplib2, google-api-core, google-auth-oauthlib, google-api-python-client\n",
      "  Attempting uninstall: urllib3\n",
      "    Found existing installation: urllib3 1.26.14\n",
      "    Uninstalling urllib3-1.26.14:\n",
      "      Successfully uninstalled urllib3-1.26.14\n",
      "  Attempting uninstall: requests\n",
      "    Found existing installation: requests 2.28.1\n",
      "    Uninstalling requests-2.28.1:\n",
      "      Successfully uninstalled requests-2.28.1\n",
      "Successfully installed cachetools-5.3.1 google-api-core-2.12.0 google-api-python-client-2.101.0 google-auth-2.23.1 google-auth-httplib2-0.1.1 google-auth-oauthlib-1.1.0 googleapis-common-protos-1.60.0 httplib2-0.22.0 oauthlib-3.2.2 protobuf-4.24.3 requests-2.31.0 requests-oauthlib-1.3.1 rsa-4.9 uritemplate-4.1.1 urllib3-2.0.5\n"
     ]
    },
    {
     "name": "stderr",
     "output_type": "stream",
     "text": [
      "WARNING: Ignoring invalid distribution -cipy (c:\\users\\vinee\\anaconda3\\lib\\site-packages)\n",
      "WARNING: Ignoring invalid distribution -cipy (c:\\users\\vinee\\anaconda3\\lib\\site-packages)\n",
      "WARNING: Ignoring invalid distribution -cipy (c:\\users\\vinee\\anaconda3\\lib\\site-packages)\n",
      "    WARNING: Ignoring invalid distribution -cipy (c:\\users\\vinee\\anaconda3\\lib\\site-packages)\n",
      "    WARNING: Ignoring invalid distribution -cipy (c:\\users\\vinee\\anaconda3\\lib\\site-packages)\n",
      "WARNING: Ignoring invalid distribution -cipy (c:\\users\\vinee\\anaconda3\\lib\\site-packages)\n",
      "WARNING: Ignoring invalid distribution -cipy (c:\\users\\vinee\\anaconda3\\lib\\site-packages)\n",
      "WARNING: Ignoring invalid distribution -cipy (c:\\users\\vinee\\anaconda3\\lib\\site-packages)\n",
      "WARNING: Ignoring invalid distribution -cipy (c:\\users\\vinee\\anaconda3\\lib\\site-packages)\n",
      "WARNING: Ignoring invalid distribution -cipy (c:\\users\\vinee\\anaconda3\\lib\\site-packages)\n",
      "WARNING: Ignoring invalid distribution -cipy (c:\\users\\vinee\\anaconda3\\lib\\site-packages)\n",
      "WARNING: Ignoring invalid distribution -cipy (c:\\users\\vinee\\anaconda3\\lib\\site-packages)\n",
      "WARNING: Ignoring invalid distribution -cipy (c:\\users\\vinee\\anaconda3\\lib\\site-packages)\n",
      "WARNING: Ignoring invalid distribution -cipy (c:\\users\\vinee\\anaconda3\\lib\\site-packages)\n",
      "WARNING: Ignoring invalid distribution -cipy (c:\\users\\vinee\\anaconda3\\lib\\site-packages)\n",
      "WARNING: Ignoring invalid distribution -cipy (c:\\users\\vinee\\anaconda3\\lib\\site-packages)\n",
      "WARNING: Ignoring invalid distribution -cipy (c:\\users\\vinee\\anaconda3\\lib\\site-packages)\n",
      "WARNING: Ignoring invalid distribution -cipy (c:\\users\\vinee\\anaconda3\\lib\\site-packages)\n",
      "WARNING: Ignoring invalid distribution -cipy (c:\\users\\vinee\\anaconda3\\lib\\site-packages)\n",
      "WARNING: Ignoring invalid distribution -cipy (c:\\users\\vinee\\anaconda3\\lib\\site-packages)\n",
      "ERROR: pip's dependency resolver does not currently take into account all the packages that are installed. This behaviour is the source of the following dependency conflicts.\n",
      "ydata-profiling 4.1.2 requires requests<2.29,>=2.24.0, but you have requests 2.31.0 which is incompatible.\n",
      "conda-repo-cli 1.0.27 requires clyent==1.2.1, but you have clyent 1.2.2 which is incompatible.\n",
      "conda-repo-cli 1.0.27 requires nbformat==5.4.0, but you have nbformat 5.7.0 which is incompatible.\n",
      "conda-repo-cli 1.0.27 requires requests==2.28.1, but you have requests 2.31.0 which is incompatible.\n",
      "WARNING: Ignoring invalid distribution -cipy (c:\\users\\vinee\\anaconda3\\lib\\site-packages)\n",
      "WARNING: Ignoring invalid distribution -cipy (c:\\users\\vinee\\anaconda3\\lib\\site-packages)\n",
      "WARNING: Ignoring invalid distribution -cipy (c:\\users\\vinee\\anaconda3\\lib\\site-packages)\n"
     ]
    }
   ],
   "source": [
    "!pip install --upgrade google-auth google-auth-oauthlib google-auth-httplib2 google-api-python-client\n"
   ]
  },
  {
   "cell_type": "code",
   "execution_count": 8,
   "metadata": {},
   "outputs": [],
   "source": [
    "from google.oauth2 import service_account\n",
    "from googleapiclient.discovery import build\n"
   ]
  },
  {
   "cell_type": "code",
   "execution_count": 10,
   "metadata": {},
   "outputs": [
    {
     "ename": "FileNotFoundError",
     "evalue": "[Errno 2] No such file or directory: 'your-service-account-key.json'",
     "output_type": "error",
     "traceback": [
      "\u001b[1;31m---------------------------------------------------------------------------\u001b[0m",
      "\u001b[1;31mFileNotFoundError\u001b[0m                         Traceback (most recent call last)",
      "Cell \u001b[1;32mIn[10], line 5\u001b[0m\n\u001b[0;32m      2\u001b[0m SERVICE_ACCOUNT_FILE \u001b[38;5;241m=\u001b[39m \u001b[38;5;124m'\u001b[39m\u001b[38;5;124myour-service-account-key.json\u001b[39m\u001b[38;5;124m'\u001b[39m  \u001b[38;5;66;03m# Replace with your JSON key file\u001b[39;00m\n\u001b[0;32m      4\u001b[0m \u001b[38;5;66;03m# Authenticate using the service account credentials\u001b[39;00m\n\u001b[1;32m----> 5\u001b[0m credentials \u001b[38;5;241m=\u001b[39m \u001b[43mservice_account\u001b[49m\u001b[38;5;241;43m.\u001b[39;49m\u001b[43mCredentials\u001b[49m\u001b[38;5;241;43m.\u001b[39;49m\u001b[43mfrom_service_account_file\u001b[49m\u001b[43m(\u001b[49m\n\u001b[0;32m      6\u001b[0m \u001b[43m    \u001b[49m\u001b[43mSERVICE_ACCOUNT_FILE\u001b[49m\u001b[43m,\u001b[49m\u001b[43m \u001b[49m\u001b[43mscopes\u001b[49m\u001b[38;5;241;43m=\u001b[39;49m\u001b[43mSCOPES\u001b[49m\n\u001b[0;32m      7\u001b[0m \u001b[43m)\u001b[49m\n",
      "File \u001b[1;32m~\\anaconda3\\lib\\site-packages\\google\\oauth2\\service_account.py:260\u001b[0m, in \u001b[0;36mCredentials.from_service_account_file\u001b[1;34m(cls, filename, **kwargs)\u001b[0m\n\u001b[0;32m    248\u001b[0m \u001b[38;5;129m@classmethod\u001b[39m\n\u001b[0;32m    249\u001b[0m \u001b[38;5;28;01mdef\u001b[39;00m \u001b[38;5;21mfrom_service_account_file\u001b[39m(\u001b[38;5;28mcls\u001b[39m, filename, \u001b[38;5;241m*\u001b[39m\u001b[38;5;241m*\u001b[39mkwargs):\n\u001b[0;32m    250\u001b[0m     \u001b[38;5;124;03m\"\"\"Creates a Credentials instance from a service account json file.\u001b[39;00m\n\u001b[0;32m    251\u001b[0m \n\u001b[0;32m    252\u001b[0m \u001b[38;5;124;03m    Args:\u001b[39;00m\n\u001b[1;32m   (...)\u001b[0m\n\u001b[0;32m    258\u001b[0m \u001b[38;5;124;03m            credentials.\u001b[39;00m\n\u001b[0;32m    259\u001b[0m \u001b[38;5;124;03m    \"\"\"\u001b[39;00m\n\u001b[1;32m--> 260\u001b[0m     info, signer \u001b[38;5;241m=\u001b[39m \u001b[43m_service_account_info\u001b[49m\u001b[38;5;241;43m.\u001b[39;49m\u001b[43mfrom_filename\u001b[49m\u001b[43m(\u001b[49m\n\u001b[0;32m    261\u001b[0m \u001b[43m        \u001b[49m\u001b[43mfilename\u001b[49m\u001b[43m,\u001b[49m\u001b[43m \u001b[49m\u001b[43mrequire\u001b[49m\u001b[38;5;241;43m=\u001b[39;49m\u001b[43m[\u001b[49m\u001b[38;5;124;43m\"\u001b[39;49m\u001b[38;5;124;43mclient_email\u001b[39;49m\u001b[38;5;124;43m\"\u001b[39;49m\u001b[43m,\u001b[49m\u001b[43m \u001b[49m\u001b[38;5;124;43m\"\u001b[39;49m\u001b[38;5;124;43mtoken_uri\u001b[39;49m\u001b[38;5;124;43m\"\u001b[39;49m\u001b[43m]\u001b[49m\n\u001b[0;32m    262\u001b[0m \u001b[43m    \u001b[49m\u001b[43m)\u001b[49m\n\u001b[0;32m    263\u001b[0m     \u001b[38;5;28;01mreturn\u001b[39;00m \u001b[38;5;28mcls\u001b[39m\u001b[38;5;241m.\u001b[39m_from_signer_and_info(signer, info, \u001b[38;5;241m*\u001b[39m\u001b[38;5;241m*\u001b[39mkwargs)\n",
      "File \u001b[1;32m~\\anaconda3\\lib\\site-packages\\google\\auth\\_service_account_info.py:78\u001b[0m, in \u001b[0;36mfrom_filename\u001b[1;34m(filename, require, use_rsa_signer)\u001b[0m\n\u001b[0;32m     64\u001b[0m \u001b[38;5;28;01mdef\u001b[39;00m \u001b[38;5;21mfrom_filename\u001b[39m(filename, require\u001b[38;5;241m=\u001b[39m\u001b[38;5;28;01mNone\u001b[39;00m, use_rsa_signer\u001b[38;5;241m=\u001b[39m\u001b[38;5;28;01mTrue\u001b[39;00m):\n\u001b[0;32m     65\u001b[0m     \u001b[38;5;124;03m\"\"\"Reads a Google service account JSON file and returns its parsed info.\u001b[39;00m\n\u001b[0;32m     66\u001b[0m \n\u001b[0;32m     67\u001b[0m \u001b[38;5;124;03m    Args:\u001b[39;00m\n\u001b[1;32m   (...)\u001b[0m\n\u001b[0;32m     76\u001b[0m \u001b[38;5;124;03m            info and a signer instance.\u001b[39;00m\n\u001b[0;32m     77\u001b[0m \u001b[38;5;124;03m    \"\"\"\u001b[39;00m\n\u001b[1;32m---> 78\u001b[0m     \u001b[38;5;28;01mwith\u001b[39;00m \u001b[43mio\u001b[49m\u001b[38;5;241;43m.\u001b[39;49m\u001b[43mopen\u001b[49m\u001b[43m(\u001b[49m\u001b[43mfilename\u001b[49m\u001b[43m,\u001b[49m\u001b[43m \u001b[49m\u001b[38;5;124;43m\"\u001b[39;49m\u001b[38;5;124;43mr\u001b[39;49m\u001b[38;5;124;43m\"\u001b[39;49m\u001b[43m,\u001b[49m\u001b[43m \u001b[49m\u001b[43mencoding\u001b[49m\u001b[38;5;241;43m=\u001b[39;49m\u001b[38;5;124;43m\"\u001b[39;49m\u001b[38;5;124;43mutf-8\u001b[39;49m\u001b[38;5;124;43m\"\u001b[39;49m\u001b[43m)\u001b[49m \u001b[38;5;28;01mas\u001b[39;00m json_file:\n\u001b[0;32m     79\u001b[0m         data \u001b[38;5;241m=\u001b[39m json\u001b[38;5;241m.\u001b[39mload(json_file)\n\u001b[0;32m     80\u001b[0m         \u001b[38;5;28;01mreturn\u001b[39;00m data, from_dict(data, require\u001b[38;5;241m=\u001b[39mrequire, use_rsa_signer\u001b[38;5;241m=\u001b[39muse_rsa_signer)\n",
      "\u001b[1;31mFileNotFoundError\u001b[0m: [Errno 2] No such file or directory: 'your-service-account-key.json'"
     ]
    }
   ],
   "source": [
    "SCOPES = ['https://www.googleapis.com/auth/drive']\n",
    "SERVICE_ACCOUNT_FILE = 'your-service-account-key.json'  # Replace with your JSON key file\n",
    "\n",
    "# Authenticate using the service account credentials\n",
    "credentials = service_account.Credentials.from_service_account_file(\n",
    "    SERVICE_ACCOUNT_FILE, scopes=SCOPES\n",
    ")\n",
    "\n",
    "# Create a Google Drive API service\n",
    "drive_service = build('drive', 'v3', credentials=credentials)\n",
    "\n",
    "# Mount Google Drive\n",
    "from google.colab import drive\n",
    "drive.mount('/content/drive')\n",
    "\n",
    "# The above code will mount Google Drive to '/content/drive'\n"
   ]
  },
  {
   "cell_type": "code",
   "execution_count": null,
   "metadata": {},
   "outputs": [],
   "source": []
  },
  {
   "cell_type": "code",
   "execution_count": null,
   "metadata": {},
   "outputs": [],
   "source": []
  },
  {
   "cell_type": "code",
   "execution_count": null,
   "metadata": {},
   "outputs": [],
   "source": []
  },
  {
   "cell_type": "code",
   "execution_count": 5,
   "metadata": {
    "colab": {
     "base_uri": "https://localhost:8080/"
    },
    "id": "xBLcox-p7bgw",
    "outputId": "01170f41-4d74-4e40-f09f-3b1c52d6ae51"
   },
   "outputs": [
    {
     "ename": "ModuleNotFoundError",
     "evalue": "No module named 'google'",
     "output_type": "error",
     "traceback": [
      "\u001b[1;31m---------------------------------------------------------------------------\u001b[0m",
      "\u001b[1;31mModuleNotFoundError\u001b[0m                       Traceback (most recent call last)",
      "Cell \u001b[1;32mIn[5], line 1\u001b[0m\n\u001b[1;32m----> 1\u001b[0m \u001b[38;5;28;01mfrom\u001b[39;00m \u001b[38;5;21;01mgoogle\u001b[39;00m\u001b[38;5;21;01m.\u001b[39;00m\u001b[38;5;21;01mcolab\u001b[39;00m \u001b[38;5;28;01mimport\u001b[39;00m drive\n\u001b[0;32m      2\u001b[0m \u001b[38;5;66;03m# mount your drive to colab where your dataset is present\u001b[39;00m\n\u001b[0;32m      3\u001b[0m drive\u001b[38;5;241m.\u001b[39mmount(\u001b[38;5;124m'\u001b[39m\u001b[38;5;124m/content/drive\u001b[39m\u001b[38;5;124m'\u001b[39m)\n",
      "\u001b[1;31mModuleNotFoundError\u001b[0m: No module named 'google'"
     ]
    }
   ],
   "source": [
    "from google.colab import drive\n",
    "# mount your drive to colab where your dataset is present\n",
    "drive.mount('/content/drive')"
   ]
  },
  {
   "cell_type": "code",
   "execution_count": null,
   "metadata": {
    "colab": {
     "base_uri": "https://localhost:8080/",
     "height": 206
    },
    "id": "oFXLmnk17eQ-",
    "outputId": "e560345c-4b60-4438-af1e-f3bc603dcc58"
   },
   "outputs": [],
   "source": [
    "# path in drive where the dataset is present\n",
    "df = pd.read_csv(\"drive/MyDrive/news_headlines.csv\", encoding=\"latin-1\")\n",
    "df = df.dropna()\n",
    "df.head()"
   ]
  },
  {
   "cell_type": "code",
   "execution_count": 6,
   "metadata": {
    "colab": {
     "base_uri": "https://localhost:8080/"
    },
    "id": "oVlpxrM_P0L1",
    "outputId": "567d46c4-5059-4b32-8539-3c29f4df2ff3"
   },
   "outputs": [
    {
     "ename": "ModuleNotFoundError",
     "evalue": "No module named 'google'",
     "output_type": "error",
     "traceback": [
      "\u001b[1;31m---------------------------------------------------------------------------\u001b[0m",
      "\u001b[1;31mModuleNotFoundError\u001b[0m                       Traceback (most recent call last)",
      "Cell \u001b[1;32mIn[6], line 1\u001b[0m\n\u001b[1;32m----> 1\u001b[0m \u001b[38;5;28;01mfrom\u001b[39;00m \u001b[38;5;21;01mgoogle\u001b[39;00m\u001b[38;5;21;01m.\u001b[39;00m\u001b[38;5;21;01mcolab\u001b[39;00m \u001b[38;5;28;01mimport\u001b[39;00m drive\n\u001b[0;32m      2\u001b[0m drive\u001b[38;5;241m.\u001b[39mmount(\u001b[38;5;124m'\u001b[39m\u001b[38;5;124m/content/drive\u001b[39m\u001b[38;5;124m'\u001b[39m)\n",
      "\u001b[1;31mModuleNotFoundError\u001b[0m: No module named 'google'"
     ]
    }
   ],
   "source": [
    "from google.colab import drive\n",
    "drive.mount('/content/drive')"
   ]
  },
  {
   "cell_type": "code",
   "execution_count": null,
   "metadata": {
    "colab": {
     "base_uri": "https://localhost:8080/"
    },
    "id": "uPUpYGCD7l9u",
    "outputId": "c65e13f6-31df-4c82-bff8-f28457499da1"
   },
   "outputs": [
    {
     "data": {
      "text/plain": [
       "(13445, 2)"
      ]
     },
     "execution_count": 18,
     "metadata": {},
     "output_type": "execute_result"
    }
   ],
   "source": [
    "df.shape"
   ]
  },
  {
   "cell_type": "code",
   "execution_count": null,
   "metadata": {
    "colab": {
     "base_uri": "https://localhost:8080/"
    },
    "id": "tX8U7x_xPlTy",
    "outputId": "dd2b4326-f7cb-48b1-c283-69fcb5863975"
   },
   "outputs": [
    {
     "name": "stdout",
     "output_type": "stream",
     "text": [
      "Drive already mounted at /content/drive; to attempt to forcibly remount, call drive.mount(\"/content/drive\", force_remount=True).\n"
     ]
    }
   ],
   "source": [
    "from google.colab import drive\n",
    "drive.mount('/content/drive')"
   ]
  },
  {
   "cell_type": "code",
   "execution_count": null,
   "metadata": {
    "colab": {
     "base_uri": "https://localhost:8080/"
    },
    "id": "G_bvqzoV7pI_",
    "outputId": "5b34d43b-e530-4041-ff39-2fa8bd0347f1"
   },
   "outputs": [
    {
     "data": {
      "text/plain": [
       "((10756, 2), (1344, 2), (1345, 2))"
      ]
     },
     "execution_count": 20,
     "metadata": {},
     "output_type": "execute_result"
    }
   ],
   "source": [
    "train_df, rest_df = train_test_split(df, test_size=0.2)\n",
    "test_df, val_df = train_test_split(rest_df, test_size=0.5)\n",
    "\n",
    "# train_df = train_df.head()\n",
    "# test_df = test_df.head()\n",
    "# val_df = val_df.head()\n",
    "train_df.shape, test_df.shape, val_df.shape"
   ]
  },
  {
   "cell_type": "code",
   "execution_count": null,
   "metadata": {
    "colab": {
     "base_uri": "https://localhost:8080/",
     "height": 113,
     "referenced_widgets": [
      "315848dd1f354c80a5ec36ef0dfc98b4",
      "30e531e000024fd984fad6bef3a9671b",
      "633d4dabb20a4d2b93f78b27b8e6847a",
      "993b2bba67d74440b76859469455547f",
      "cf28d325989346a989da3c2c5e3a37f7",
      "1bcaf3dd366040fbbd77770d875e274b",
      "9cdbce3d01164d8ebc47f3fffb051cb8",
      "85899e798d4e4e08b9eec99f3fafe9be",
      "932a9f2f6e764da9b1a1b98f346a4f2e",
      "0a2b5e1c34d343198d63a1869bab9f7d",
      "a5179fbfbc6446f8a93423eaae7e14b5",
      "9798c6669e1746a692aef5d2e0b0ba7f",
      "de2ff33fbb4b4b5589864278d9c25fa0",
      "562ea41282f24ed1972b87adef90dc38",
      "b7ab048f494843b6bd61551cc96a9082",
      "f7cc1d2aedb148a3917858b93bae9d23",
      "67356708724c4a2693afb6e009fd0f1a",
      "bc1995b2a7214676aeddc80658a66a2e",
      "da03af9fff8b46a9b460707fb3509679",
      "34227760af304be393b021b813831cc0",
      "30021f6fee7e47d583851458ca114bad",
      "dd8fa367c47243e2987a7c4be2c92be6",
      "6a54661b32904745875a6f5fbb87972e",
      "371e917be222420db64b74f4efcf1c40",
      "d3e64549f50546ca9802ed62d4e13bf6",
      "a517d5b8121e4aa598500dc155076dda",
      "da72fc3623984f0ebfacc1241377f835",
      "95c903ef9771418faf1dfcb3482e12d8",
      "8c238ea6918d4b708e3cec4bcd350ef7",
      "c56fa1af7d1b41089ce6301211d5ba4e",
      "88805a6680204faca769310b8618ece2",
      "1f12de98ba9d45a8bd05f073d9d453ec",
      "ab453590fdc842f3ab573edb806ec4af"
     ]
    },
    "id": "Hvua9C2B7rqy",
    "outputId": "8ed1d101-c77d-4fca-d521-ebd0f1ecab21"
   },
   "outputs": [
    {
     "data": {
      "application/vnd.jupyter.widget-view+json": {
       "model_id": "315848dd1f354c80a5ec36ef0dfc98b4",
       "version_major": 2,
       "version_minor": 0
      },
      "text/plain": [
       "Downloading (…)ve/main/spiece.model:   0%|          | 0.00/792k [00:00<?, ?B/s]"
      ]
     },
     "metadata": {},
     "output_type": "display_data"
    },
    {
     "data": {
      "application/vnd.jupyter.widget-view+json": {
       "model_id": "9798c6669e1746a692aef5d2e0b0ba7f",
       "version_major": 2,
       "version_minor": 0
      },
      "text/plain": [
       "Downloading (…)/main/tokenizer.json:   0%|          | 0.00/1.39M [00:00<?, ?B/s]"
      ]
     },
     "metadata": {},
     "output_type": "display_data"
    },
    {
     "data": {
      "application/vnd.jupyter.widget-view+json": {
       "model_id": "6a54661b32904745875a6f5fbb87972e",
       "version_major": 2,
       "version_minor": 0
      },
      "text/plain": [
       "Downloading (…)lve/main/config.json:   0%|          | 0.00/1.21k [00:00<?, ?B/s]"
      ]
     },
     "metadata": {},
     "output_type": "display_data"
    }
   ],
   "source": [
    "MODEL_NAME = \"t5-base\" #smallest t5 model\n",
    "\n",
    "tokenizer = T5Tokenizer.from_pretrained(MODEL_NAME, model_max_length=512) # , model_max_length=10000"
   ]
  },
  {
   "cell_type": "code",
   "execution_count": null,
   "metadata": {
    "colab": {
     "base_uri": "https://localhost:8080/"
    },
    "id": "v-h2uilp7vsj",
    "outputId": "0218566a-783d-4564-945a-a141b0e19d32"
   },
   "outputs": [
    {
     "name": "stderr",
     "output_type": "stream",
     "text": [
      "Token indices sequence length is longer than the specified maximum sequence length for this model (746 > 512). Running this sequence through the model will result in indexing errors\n"
     ]
    }
   ],
   "source": [
    "article_token_counts, headline_token_counts = [], []\n",
    "\n",
    "for _, row in train_df.iterrows():\n",
    "    article_token_count = len(tokenizer.encode(row[\"article\"]))\n",
    "    article_token_counts.append(article_token_count)\n",
    "\n",
    "    headline_token_count = len(tokenizer.encode(row[\"headline\"]))\n",
    "    headline_token_counts.append(headline_token_count)"
   ]
  },
  {
   "cell_type": "code",
   "execution_count": null,
   "metadata": {
    "colab": {
     "base_uri": "https://localhost:8080/"
    },
    "id": "QnEVBE_G79uJ",
    "outputId": "497188db-128d-40ba-f29a-e8dff8d42f58"
   },
   "outputs": [
    {
     "data": {
      "text/plain": [
       "(33246, 157)"
      ]
     },
     "execution_count": 23,
     "metadata": {},
     "output_type": "execute_result"
    }
   ],
   "source": [
    "df[\"article\"].str.len().max(), df[\"headline\"].str.len().max()"
   ]
  },
  {
   "cell_type": "code",
   "execution_count": null,
   "metadata": {
    "colab": {
     "base_uri": "https://localhost:8080/",
     "height": 470
    },
    "id": "FnQcSoal8FhQ",
    "outputId": "438345ce-8afa-4e2b-f49c-71fe0676e616"
   },
   "outputs": [
    {
     "data": {
      "text/plain": [
       "Text(0.5, 1.0, 'headline text token counts')"
      ]
     },
     "execution_count": 24,
     "metadata": {},
     "output_type": "execute_result"
    },
    {
     "data": {
      "image/png": "[encoded data removed]",
      "text/plain": [
       "<Figure size 640x480 with 2 Axes>"
      ]
     },
     "metadata": {},
     "output_type": "display_data"
    }
   ],
   "source": [
    "fig, (ax1, ax2) = plt.subplots(1, 2)\n",
    "\n",
    "sns.histplot(article_token_counts, ax=ax1)\n",
    "ax1.set_title(\"full article token counts\")\n",
    "\n",
    "sns.histplot(headline_token_counts, ax=ax2)\n",
    "ax2.set_title(\"headline text token counts\")"
   ]
  },
  {
   "cell_type": "code",
   "execution_count": null,
   "metadata": {
    "colab": {
     "base_uri": "https://localhost:8080/",
     "height": 165
    },
    "id": "L8TAiRcR8N-I",
    "outputId": "fde03799-5524-4a6b-c292-426a7f3ee580"
   },
   "outputs": [
    {
     "data": {
      "application/vnd.google.colaboratory.intrinsic+json": {
       "type": "string"
      },
      "text/plain": [
       "'The logo of cryptocurrency exchange Binance displayed on a smartphone with the word \"cancelled\" on a computer screen in the background.Budrul Chukrut | SOPA Images | LightRocket via Getty ImagesBinance said Monday that it is temporarily pausing bitcoin withdrawals \"due to a stuck transaction causing a backlog.\"At first, Binance founder and CEO Changpeng Zhao said in a tweet that the issue would be fixed within 30 minutes. But he later amended that to say, \"Likely this is going to take a bit longer to fix than my initial estimate.\" He added that, \"[t]his is only impacting the Bitcoin network,\" and that holders \"can still withdraw Bitcoin on other networks like BEP-20.\"\"Funds are SAFU,\" he added. The acronym stands for \"secure asset fund for users,\" which is a fund the company established in 2018 to help safeguard users.The news comes as bitcoin tumbled more than 10% on Monday, breaking below $24,000 and sinking to the lowest level since December 2020.The largest cryptocurrency has been hit by macroeconomic concerns, including rampant inflation.Binance is the world\\'s largest crypto exchange. The company handles spot trading volumes of more than $14 billion and nearly $50 billion in derivatives volume in a single day, according to data from CoinGecko.- CNBC\\'s Ryan Browne contributed reporting.'"
      ]
     },
     "execution_count": 25,
     "metadata": {},
     "output_type": "execute_result"
    }
   ],
   "source": [
    "example = df.iloc[0][\"article\"]\n",
    "example"
   ]
  },
  {
   "cell_type": "code",
   "execution_count": null,
   "metadata": {
    "colab": {
     "base_uri": "https://localhost:8080/"
    },
    "id": "h9nGFObG8oAn",
    "outputId": "c818438e-e4a9-4f56-c7f4-212843995940"
   },
   "outputs": [
    {
     "data": {
      "text/plain": [
       "['▁The',\n",
       " '▁logo',\n",
       " '▁of',\n",
       " '▁cryptocurrency',\n",
       " '▁exchange',\n",
       " '▁Bin',\n",
       " 'ance',\n",
       " '▁displayed',\n",
       " '▁on',\n",
       " '▁',\n",
       " 'a',\n",
       " '▁smartphone',\n",
       " '▁with',\n",
       " '▁the',\n",
       " '▁word',\n",
       " '▁\"',\n",
       " 'can',\n",
       " 'cel',\n",
       " 'led',\n",
       " '\"',\n",
       " '▁on',\n",
       " '▁',\n",
       " 'a',\n",
       " '▁computer',\n",
       " '▁screen',\n",
       " '▁in',\n",
       " '▁the',\n",
       " '▁background',\n",
       " '.',\n",
       " 'Bu',\n",
       " 'd',\n",
       " 'rul',\n",
       " '▁Chu',\n",
       " 'k',\n",
       " 'rut',\n",
       " '▁|',\n",
       " '▁SO',\n",
       " 'PA',\n",
       " '▁Images',\n",
       " '▁|',\n",
       " '▁Light',\n",
       " 'Rock',\n",
       " 'e',\n",
       " 't',\n",
       " '▁via',\n",
       " '▁G',\n",
       " 'etty',\n",
       " '▁Images',\n",
       " 'B',\n",
       " 'in',\n",
       " 'ance',\n",
       " '▁said',\n",
       " '▁Monday',\n",
       " '▁that',\n",
       " '▁it',\n",
       " '▁is',\n",
       " '▁temporarily',\n",
       " '▁pa',\n",
       " 'using',\n",
       " '▁bitcoin',\n",
       " '▁withdrawal',\n",
       " 's',\n",
       " '▁\"',\n",
       " 'du',\n",
       " 'e',\n",
       " '▁to',\n",
       " '▁',\n",
       " 'a',\n",
       " '▁stuck',\n",
       " '▁transaction',\n",
       " '▁',\n",
       " 'causing',\n",
       " '▁',\n",
       " 'a',\n",
       " '▁back',\n",
       " 'log',\n",
       " '.\"',\n",
       " 'A',\n",
       " 't',\n",
       " '▁first',\n",
       " ',',\n",
       " '▁Bin',\n",
       " 'ance',\n",
       " '▁founder',\n",
       " '▁and',\n",
       " '▁CEO',\n",
       " '▁Chang',\n",
       " 'pen',\n",
       " 'g',\n",
       " '▁Zhao',\n",
       " '▁said',\n",
       " '▁in',\n",
       " '▁',\n",
       " 'a',\n",
       " '▁tweet',\n",
       " '▁that',\n",
       " '▁the',\n",
       " '▁issue',\n",
       " '▁would',\n",
       " '▁be',\n",
       " '▁fixed',\n",
       " '▁within',\n",
       " '▁30',\n",
       " '▁minutes',\n",
       " '.',\n",
       " '▁But',\n",
       " '▁',\n",
       " 'he',\n",
       " '▁later',\n",
       " '▁amended',\n",
       " '▁that',\n",
       " '▁to',\n",
       " '▁say',\n",
       " ',',\n",
       " '▁\"',\n",
       " 'L',\n",
       " 'ike',\n",
       " 'ly',\n",
       " '▁this',\n",
       " '▁is',\n",
       " '▁going',\n",
       " '▁to',\n",
       " '▁take',\n",
       " '▁',\n",
       " 'a',\n",
       " '▁bit',\n",
       " '▁longer',\n",
       " '▁to',\n",
       " '▁fix',\n",
       " '▁than',\n",
       " '▁my',\n",
       " '▁initial',\n",
       " '▁estimate',\n",
       " '.\"',\n",
       " '▁He',\n",
       " '▁added',\n",
       " '▁that',\n",
       " ',',\n",
       " '▁\"',\n",
       " '[',\n",
       " 't',\n",
       " ']',\n",
       " 'his',\n",
       " '▁is',\n",
       " '▁only',\n",
       " '▁impact',\n",
       " 'ing',\n",
       " '▁the',\n",
       " '▁Bitcoin',\n",
       " '▁network',\n",
       " ',\"',\n",
       " '▁and',\n",
       " '▁that',\n",
       " '▁holders',\n",
       " '▁\"',\n",
       " 'can',\n",
       " '▁still',\n",
       " '▁withdraw',\n",
       " '▁Bitcoin',\n",
       " '▁on',\n",
       " '▁other',\n",
       " '▁networks',\n",
       " '▁like',\n",
       " '▁BE',\n",
       " 'P',\n",
       " '-20',\n",
       " '.\"',\n",
       " '\"',\n",
       " 'F',\n",
       " 'und',\n",
       " 's',\n",
       " '▁are',\n",
       " '▁SA',\n",
       " 'FU',\n",
       " ',\"',\n",
       " '▁',\n",
       " 'he',\n",
       " '▁added',\n",
       " '.',\n",
       " '▁The',\n",
       " '▁acronym',\n",
       " '▁stands',\n",
       " '▁for',\n",
       " '▁\"',\n",
       " 'secure',\n",
       " '▁asset',\n",
       " '▁fund',\n",
       " '▁for',\n",
       " '▁users',\n",
       " ',\"',\n",
       " '▁which',\n",
       " '▁is',\n",
       " '▁',\n",
       " 'a',\n",
       " '▁fund',\n",
       " '▁the',\n",
       " '▁company',\n",
       " '▁established',\n",
       " '▁in',\n",
       " '▁2018',\n",
       " '▁to',\n",
       " '▁help',\n",
       " '▁safeguard',\n",
       " '▁users',\n",
       " '.',\n",
       " 'The',\n",
       " '▁news',\n",
       " '▁comes',\n",
       " '▁as',\n",
       " '▁bitcoin',\n",
       " '▁tumble',\n",
       " 'd',\n",
       " '▁more',\n",
       " '▁than',\n",
       " '▁10%',\n",
       " '▁on',\n",
       " '▁Monday',\n",
       " ',',\n",
       " '▁breaking',\n",
       " '▁below',\n",
       " '▁$2',\n",
       " '4,000',\n",
       " '▁and',\n",
       " '▁sink',\n",
       " 'ing',\n",
       " '▁to',\n",
       " '▁the',\n",
       " '▁lowest',\n",
       " '▁level',\n",
       " '▁since',\n",
       " '▁December',\n",
       " '▁2020',\n",
       " '.',\n",
       " 'The',\n",
       " '▁largest',\n",
       " '▁cryptocurrency',\n",
       " '▁has',\n",
       " '▁been',\n",
       " '▁hit',\n",
       " '▁by',\n",
       " '▁macro',\n",
       " 'economic',\n",
       " '▁concerns',\n",
       " ',',\n",
       " '▁including',\n",
       " '▁ramp',\n",
       " 'ant',\n",
       " '▁inflation',\n",
       " '.',\n",
       " 'B',\n",
       " 'in',\n",
       " 'ance',\n",
       " '▁is',\n",
       " '▁the',\n",
       " '▁world',\n",
       " \"'\",\n",
       " 's',\n",
       " '▁largest',\n",
       " '▁crypto',\n",
       " '▁exchange',\n",
       " '.',\n",
       " '▁The',\n",
       " '▁company',\n",
       " '▁handles',\n",
       " '▁spot',\n",
       " '▁trading',\n",
       " '▁volumes',\n",
       " '▁of',\n",
       " '▁more',\n",
       " '▁than',\n",
       " '▁$14',\n",
       " '▁billion',\n",
       " '▁and',\n",
       " '▁nearly',\n",
       " '▁$50',\n",
       " '▁billion',\n",
       " '▁in',\n",
       " '▁derivative',\n",
       " 's',\n",
       " '▁volume',\n",
       " '▁in',\n",
       " '▁',\n",
       " 'a',\n",
       " '▁single',\n",
       " '▁day',\n",
       " ',',\n",
       " '▁according',\n",
       " '▁to',\n",
       " '▁data',\n",
       " '▁from',\n",
       " '▁Coin',\n",
       " 'G',\n",
       " 'eck',\n",
       " 'o',\n",
       " '.',\n",
       " '-',\n",
       " '▁C',\n",
       " 'NBC',\n",
       " \"'\",\n",
       " 's',\n",
       " '▁Ryan',\n",
       " '▁Brown',\n",
       " 'e',\n",
       " '▁contributed',\n",
       " '▁reporting',\n",
       " '.']"
      ]
     },
     "execution_count": 26,
     "metadata": {},
     "output_type": "execute_result"
    }
   ],
   "source": [
    "tokenizer.tokenize(example)"
   ]
  },
  {
   "cell_type": "code",
   "execution_count": null,
   "metadata": {
    "colab": {
     "base_uri": "https://localhost:8080/"
    },
    "id": "1excbnN18wrJ",
    "outputId": "8286a45c-5218-4f90-c289-55920529cd18"
   },
   "outputs": [
    {
     "data": {
      "text/plain": [
       "[37,\n",
       " 3554,\n",
       " 13,\n",
       " 19432,\n",
       " 2509,\n",
       " 7617,\n",
       " 663,\n",
       " 6099,\n",
       " 30,\n",
       " 3,\n",
       " 9,\n",
       " 5626,\n",
       " 28,\n",
       " 8,\n",
       " 1448,\n",
       " 96,\n",
       " 1608,\n",
       " 7125,\n",
       " 1361,\n",
       " 121,\n",
       " 30,\n",
       " 3,\n",
       " 9,\n",
       " 1218,\n",
       " 1641,\n",
       " 16,\n",
       " 8,\n",
       " 2458,\n",
       " 5,\n",
       " 7793,\n",
       " 26,\n",
       " 5155,\n",
       " 16636,\n",
       " 157,\n",
       " 6830,\n",
       " 1820,\n",
       " 5055,\n",
       " 3965,\n",
       " 15180,\n",
       " 1820,\n",
       " 2892,\n",
       " 23349,\n",
       " 15,\n",
       " 17,\n",
       " 1009,\n",
       " 350,\n",
       " 16142,\n",
       " 15180,\n",
       " 279,\n",
       " 77,\n",
       " 663,\n",
       " 243,\n",
       " 2089,\n",
       " 24,\n",
       " 34,\n",
       " 19,\n",
       " 18223,\n",
       " 2576,\n",
       " 9381,\n",
       " 16623,\n",
       " 11905,\n",
       " 7,\n",
       " 96,\n",
       " 1259,\n",
       " 15,\n",
       " 12,\n",
       " 3,\n",
       " 9,\n",
       " 6229,\n",
       " 5878,\n",
       " 3,\n",
       " 5885,\n",
       " 3,\n",
       " 9,\n",
       " 223,\n",
       " 2152,\n",
       " 535,\n",
       " 188,\n",
       " 17,\n",
       " 166,\n",
       " 6,\n",
       " 7617,\n",
       " 663,\n",
       " 7174,\n",
       " 11,\n",
       " 4071,\n",
       " 24187,\n",
       " 3208,\n",
       " 122,\n",
       " 30680,\n",
       " 243,\n",
       " 16,\n",
       " 3,\n",
       " 9,\n",
       " 10657,\n",
       " 24,\n",
       " 8,\n",
       " 962,\n",
       " 133,\n",
       " 36,\n",
       " 3599,\n",
       " 441,\n",
       " 604,\n",
       " 676,\n",
       " 5,\n",
       " 299,\n",
       " 3,\n",
       " 88,\n",
       " 865,\n",
       " 21012,\n",
       " 24,\n",
       " 12,\n",
       " 497,\n",
       " 6,\n",
       " 96,\n",
       " 434,\n",
       " 5208,\n",
       " 120,\n",
       " 48,\n",
       " 19,\n",
       " 352,\n",
       " 12,\n",
       " 240,\n",
       " 3,\n",
       " 9,\n",
       " 720,\n",
       " 1200,\n",
       " 12,\n",
       " 2210,\n",
       " 145,\n",
       " 82,\n",
       " 2332,\n",
       " 7037,\n",
       " 535,\n",
       " 216,\n",
       " 974,\n",
       " 24,\n",
       " 6,\n",
       " 96,\n",
       " 6306,\n",
       " 17,\n",
       " 908,\n",
       " 10193,\n",
       " 19,\n",
       " 163,\n",
       " 1113,\n",
       " 53,\n",
       " 8,\n",
       " 9310,\n",
       " 1229,\n",
       " 976,\n",
       " 11,\n",
       " 24,\n",
       " 14733,\n",
       " 96,\n",
       " 1608,\n",
       " 341,\n",
       " 14510,\n",
       " 9310,\n",
       " 30,\n",
       " 119,\n",
       " 5275,\n",
       " 114,\n",
       " 6554,\n",
       " 345,\n",
       " 7988,\n",
       " 535,\n",
       " 121,\n",
       " 371,\n",
       " 1106,\n",
       " 7,\n",
       " 33,\n",
       " 4646,\n",
       " 19813,\n",
       " 976,\n",
       " 3,\n",
       " 88,\n",
       " 974,\n",
       " 5,\n",
       " 37,\n",
       " 30895,\n",
       " 5024,\n",
       " 21,\n",
       " 96,\n",
       " 24875,\n",
       " 7000,\n",
       " 3069,\n",
       " 21,\n",
       " 1105,\n",
       " 976,\n",
       " 84,\n",
       " 19,\n",
       " 3,\n",
       " 9,\n",
       " 3069,\n",
       " 8,\n",
       " 349,\n",
       " 2127,\n",
       " 16,\n",
       " 846,\n",
       " 12,\n",
       " 199,\n",
       " 18034,\n",
       " 1105,\n",
       " 5,\n",
       " 634,\n",
       " 1506,\n",
       " 639,\n",
       " 38,\n",
       " 16623,\n",
       " 26565,\n",
       " 26,\n",
       " 72,\n",
       " 145,\n",
       " 6389,\n",
       " 30,\n",
       " 2089,\n",
       " 6,\n",
       " 7814,\n",
       " 666,\n",
       " 3771,\n",
       " 13161,\n",
       " 11,\n",
       " 5067,\n",
       " 53,\n",
       " 12,\n",
       " 8,\n",
       " 7402,\n",
       " 593,\n",
       " 437,\n",
       " 1882,\n",
       " 6503,\n",
       " 5,\n",
       " 634,\n",
       " 2015,\n",
       " 19432,\n",
       " 65,\n",
       " 118,\n",
       " 1560,\n",
       " 57,\n",
       " 11663,\n",
       " 13599,\n",
       " 3315,\n",
       " 6,\n",
       " 379,\n",
       " 10785,\n",
       " 288,\n",
       " 12485,\n",
       " 5,\n",
       " 279,\n",
       " 77,\n",
       " 663,\n",
       " 19,\n",
       " 8,\n",
       " 296,\n",
       " 31,\n",
       " 7,\n",
       " 2015,\n",
       " 17620,\n",
       " 2509,\n",
       " 5,\n",
       " 37,\n",
       " 349,\n",
       " 13338,\n",
       " 2140,\n",
       " 3415,\n",
       " 13548,\n",
       " 13,\n",
       " 72,\n",
       " 145,\n",
       " 26845,\n",
       " 2108,\n",
       " 11,\n",
       " 2111,\n",
       " 13309,\n",
       " 2108,\n",
       " 16,\n",
       " 21875,\n",
       " 7,\n",
       " 2908,\n",
       " 16,\n",
       " 3,\n",
       " 9,\n",
       " 712,\n",
       " 239,\n",
       " 6,\n",
       " 1315,\n",
       " 12,\n",
       " 331,\n",
       " 45,\n",
       " 15589,\n",
       " 517,\n",
       " 5007,\n",
       " 32,\n",
       " 5,\n",
       " 18,\n",
       " 205,\n",
       " 15829,\n",
       " 31,\n",
       " 7,\n",
       " 7826,\n",
       " 3899,\n",
       " 15,\n",
       " 9859,\n",
       " 5099,\n",
       " 5,\n",
       " 1]"
      ]
     },
     "execution_count": 27,
     "metadata": {},
     "output_type": "execute_result"
    }
   ],
   "source": [
    "tokenizer.encode(example)"
   ]
  },
  {
   "cell_type": "code",
   "execution_count": null,
   "metadata": {
    "id": "UJxD0pvm81du"
   },
   "outputs": [],
   "source": [
    "class NewsHeadlineDataset(Dataset):\n",
    "\n",
    "    def __init__(\n",
    "        self,\n",
    "        data: pd.DataFrame,\n",
    "        tokenizer: T5Tokenizer,\n",
    "        article_max_token_len: int = 512,\n",
    "        headline_max_token_len: int = 128\n",
    "    ):\n",
    "\n",
    "        self.tokenizer = tokenizer\n",
    "        self.data = data\n",
    "        self.article_max_token_len = article_max_token_len\n",
    "        self.headline_max_token_len = headline_max_token_len\n",
    "\n",
    "    def __len__(self):\n",
    "        return len(self.data)\n",
    "\n",
    "    def __getitem__(self, index: int):\n",
    "        data_row = self.data.iloc[index]\n",
    "\n",
    "        article = data_row[\"article\"]\n",
    "\n",
    "        article_encoding = tokenizer(\n",
    "            article,\n",
    "            max_length=self.article_max_token_len,\n",
    "            padding=\"max_length\",\n",
    "            truncation=True,\n",
    "            return_attention_mask=True,\n",
    "            add_special_tokens=True,\n",
    "            return_tensors=\"pt\"\n",
    "        )\n",
    "\n",
    "        headline_encoding = tokenizer(\n",
    "            data_row[\"headline\"],\n",
    "            max_length=self.headline_max_token_len,\n",
    "            padding=\"max_length\",\n",
    "            truncation=True,\n",
    "            return_attention_mask=True,\n",
    "            add_special_tokens=True,\n",
    "            return_tensors=\"pt\"\n",
    "        )\n",
    "\n",
    "        labels = headline_encoding[\"input_ids\"]\n",
    "        # giving padding (encoded with 0s) value of -100 so that it doesn't get counted in loss func, from docs\n",
    "        labels[labels == 0] = -100\n",
    "\n",
    "        return dict(\n",
    "            article=article,\n",
    "            headline=data_row[\"headline\"],\n",
    "            article_input_ids=article_encoding[\"input_ids\"].flatten(),\n",
    "            article_attention_mask=article_encoding[\"attention_mask\"].flatten(),\n",
    "            labels=labels.flatten(),\n",
    "            labels_attention_mask=headline_encoding[\"attention_mask\"].flatten()\n",
    "        )"
   ]
  },
  {
   "cell_type": "code",
   "execution_count": null,
   "metadata": {
    "id": "ITkgdUgd9sN7"
   },
   "outputs": [],
   "source": [
    "class NewsHeadlineDataModule(pl.LightningDataModule):\n",
    "\n",
    "    def __init__(\n",
    "        self,\n",
    "        train_df: pd.DataFrame,\n",
    "        test_df: pd.DataFrame,\n",
    "        val_df: pd.DataFrame,\n",
    "        tokenizer: T5Tokenizer,\n",
    "        batch_size: int = 8,\n",
    "        article_max_token_len: int = 512,\n",
    "        headline_max_token_len: int = 128\n",
    "    ):\n",
    "\n",
    "        super().__init__()\n",
    "\n",
    "        self.train_df = train_df\n",
    "        self.test_df = test_df\n",
    "        self.val_df = val_df\n",
    "\n",
    "        self.batch_size = batch_size\n",
    "        self.tokenizer = tokenizer\n",
    "        self.article_max_token_len = article_max_token_len\n",
    "        self.headline_max_token_len = headline_max_token_len\n",
    "\n",
    "    def setup(self, stage=None):\n",
    "        self.train_dataset = NewsHeadlineDataset(\n",
    "            self.train_df,\n",
    "            self.tokenizer,\n",
    "            self.article_max_token_len,\n",
    "            self.headline_max_token_len\n",
    "        )\n",
    "\n",
    "        self.test_dataset = NewsHeadlineDataset(\n",
    "            self.test_df,\n",
    "            self.tokenizer,\n",
    "            self.article_max_token_len,\n",
    "            self.headline_max_token_len\n",
    "        )\n",
    "\n",
    "        self.val_dataset = NewsHeadlineDataset(\n",
    "            self.val_df,\n",
    "            self.tokenizer,\n",
    "            self.article_max_token_len,\n",
    "            self.headline_max_token_len\n",
    "        )\n",
    "\n",
    "    def train_dataloader(self):\n",
    "        return DataLoader(\n",
    "            self.train_dataset,\n",
    "            batch_size=self.batch_size,\n",
    "            shuffle=True, # used for training\n",
    "            num_workers=2\n",
    "        )\n",
    "\n",
    "    def val_dataloader(self):\n",
    "        return DataLoader(\n",
    "            self.test_dataset,\n",
    "            batch_size=self.batch_size,\n",
    "            shuffle=False,\n",
    "            num_workers=2\n",
    "        )\n",
    "\n",
    "    def test_dataloader(self):\n",
    "        return DataLoader(\n",
    "            self.val_dataset,\n",
    "            batch_size=self.batch_size,\n",
    "            shuffle=False,\n",
    "            num_workers=2\n",
    "        )"
   ]
  },
  {
   "cell_type": "markdown",
   "metadata": {
    "id": "_dOvZQaKMywt"
   },
   "source": [
    "# Model Building"
   ]
  },
  {
   "cell_type": "code",
   "execution_count": null,
   "metadata": {
    "colab": {
     "base_uri": "https://localhost:8080/",
     "height": 822
    },
    "id": "HPRFFaUCM3hU",
    "outputId": "3ae470ed-8ce3-4c84-fe2d-f80c6720fecf"
   },
   "outputs": [
    {
     "data": {
      "application/javascript": [
       "\n",
       "        (async () => {\n",
       "            const url = new URL(await google.colab.kernel.proxyPort(6006, {'cache': true}));\n",
       "            url.searchParams.set('tensorboardColab', 'true');\n",
       "            const iframe = document.createElement('iframe');\n",
       "            iframe.src = url;\n",
       "            iframe.setAttribute('width', '100%');\n",
       "            iframe.setAttribute('height', '800');\n",
       "            iframe.setAttribute('frameborder', 0);\n",
       "            document.body.appendChild(iframe);\n",
       "        })();\n",
       "    "
      ],
      "text/plain": [
       "<IPython.core.display.Javascript object>"
      ]
     },
     "metadata": {},
     "output_type": "display_data"
    }
   ],
   "source": [
    "%load_ext tensorboard\n",
    "%tensorboard --logdir ./lightning_logs"
   ]
  },
  {
   "cell_type": "code",
   "execution_count": null,
   "metadata": {
    "id": "xj6i9oVPOTLV"
   },
   "outputs": [],
   "source": [
    "N_EPOCHS = 10\n",
    "BATCH_SIZE = 8\n",
    "\n",
    "data_module = NewsHeadlineDataModule(train_df, test_df, val_df, tokenizer, batch_size=BATCH_SIZE)"
   ]
  },
  {
   "cell_type": "code",
   "execution_count": null,
   "metadata": {
    "id": "mAyQmQgUObqJ"
   },
   "outputs": [],
   "source": [
    "class NewsHeadlineModel(pl.LightningModule):\n",
    "\n",
    "    def __init__(self):\n",
    "        super().__init__()\n",
    "        self.model = T5ForConditionalGeneration.from_pretrained(MODEL_NAME, return_dict=True)\n",
    "        self.val_loss = []\n",
    "        self.val_loss_epoch = []\n",
    "\n",
    "    def forward(self, input_ids, attention_mask, decoder_attention_mask, labels=None):\n",
    "        # if we have labels we are going to have decoder_attenttion_mask which is calculated from the summary encoding and the labels\n",
    "\n",
    "        output = self.model(\n",
    "            input_ids,\n",
    "            attention_mask=attention_mask,\n",
    "            labels=labels,\n",
    "            decoder_attention_mask=decoder_attention_mask\n",
    "        )\n",
    "\n",
    "        return output.loss, output.logits\n",
    "\n",
    "    def training_step(self, batch, batch_idx):\n",
    "        input_ids = batch[\"article_input_ids\"]\n",
    "        attention_mask = batch[\"article_attention_mask\"]\n",
    "        labels = batch[\"labels\"]\n",
    "        labels_attention_mask = batch[\"labels_attention_mask\"]\n",
    "\n",
    "        loss, outputs = self(\n",
    "            input_ids=input_ids,\n",
    "            attention_mask=attention_mask,\n",
    "            decoder_attention_mask=labels_attention_mask,\n",
    "            labels=labels\n",
    "        )\n",
    "\n",
    "        self.log(\"train_loss\", loss, prog_bar=True, logger=True)\n",
    "        return loss\n",
    "\n",
    "    def validation_step(self, batch, batch_idx):\n",
    "        input_ids = batch[\"article_input_ids\"]\n",
    "        attention_mask = batch[\"article_attention_mask\"]\n",
    "        labels = batch[\"labels\"]\n",
    "        labels_attention_mask = batch[\"labels_attention_mask\"]\n",
    "\n",
    "        loss, outputs = self(\n",
    "            input_ids=input_ids,\n",
    "            attention_mask=attention_mask,\n",
    "            decoder_attention_mask=labels_attention_mask,\n",
    "            labels=labels\n",
    "        )\n",
    "\n",
    "        self.log(\"val_loss\", loss, prog_bar=True, logger=True)\n",
    "        self.val_loss.append(loss)\n",
    "        return loss\n",
    "\n",
    "    def validation_epoch_end(self, outputs):\n",
    "      avg = sum(self.val_loss)/len(self.val_loss)\n",
    "      self.val_loss_epoch.append(avg)\n",
    "      self.val_loss = []\n",
    "      # avg_loss = torch.stack([x[\"val_loss\"] for x in outputs]).mean()\n",
    "      # self.logger.experiment.add_scalar('loss',avg_loss, self.current_epoch)\n",
    "\n",
    "    def test_step(self, batch, batch_idx):\n",
    "        input_ids = batch[\"article_input_ids\"]\n",
    "        attention_mask = batch[\"article_attention_mask\"]\n",
    "        labels = batch[\"labels\"]\n",
    "        labels_attention_mask = batch[\"labels_attention_mask\"]\n",
    "\n",
    "        loss, outputs = self(\n",
    "            input_ids=input_ids,\n",
    "            attention_mask=attention_mask,\n",
    "            decoder_attention_mask=labels_attention_mask,\n",
    "            labels=labels\n",
    "        )\n",
    "\n",
    "        self.log(\"test_loss\", loss, prog_bar=True, logger=True)\n",
    "        return loss\n",
    "\n",
    "    def configure_optimizers(self):\n",
    "        return torch.optim.AdamW(self.parameters(), lr=0.0001)"
   ]
  },
  {
   "cell_type": "code",
   "execution_count": null,
   "metadata": {
    "colab": {
     "base_uri": "https://localhost:8080/",
     "height": 81,
     "referenced_widgets": [
      "4c91b7d689c24dd897fd8c2bf2f7e8f8",
      "20a3ae49a48e48508df9b2a29b2fe4d5",
      "c41ae2ca2a6b4400b089dfb68ae61b0c",
      "e85c321a510e47389f044245fb5e485b",
      "4ffda7a526b7499297b324103f62bb44",
      "b6bd6078883a48b4ac64a1d72a0c1bcd",
      "10d47119fd6346e088585ee46d78f47a",
      "195251d73c884b3ba546e6f465f9ad51",
      "b85913ea31b24994a20920b3a08dddae",
      "0196c1f1431041cca23284d092b2193d",
      "f08bc93f4d574b1e87239b6270a2bff5",
      "c9bf456f75264c27bc691cb3183e338a",
      "e164370796e748bb89157bf0d8e61196",
      "8f59fdcf4de2425a820efe320a998a0c",
      "b2d3d29726ba44d4aa08096e45209bc5",
      "e628b4c1ba894d86b9e73a51565e1ab0",
      "c88e446fb2574218a0a37d930a057451",
      "b38dc930edcb4c83a90169323218e32e",
      "21a92ba486cb4b48a4ce53eaf4d59b3a",
      "110af2c2ad374a589b7ea7c23dcac0cd",
      "7f24cbb33fc0414091e7cbb242beecfd",
      "a2ec9efdfff24095a8431299a96a5ac9"
     ]
    },
    "id": "9ssBMPkpPRjz",
    "outputId": "f497080b-8b5a-46a9-d3fa-7df0b2fc01d7"
   },
   "outputs": [
    {
     "data": {
      "application/vnd.jupyter.widget-view+json": {
       "model_id": "4c91b7d689c24dd897fd8c2bf2f7e8f8",
       "version_major": 2,
       "version_minor": 0
      },
      "text/plain": [
       "Downloading model.safetensors:   0%|          | 0.00/892M [00:00<?, ?B/s]"
      ]
     },
     "metadata": {},
     "output_type": "display_data"
    },
    {
     "data": {
      "application/vnd.jupyter.widget-view+json": {
       "model_id": "c9bf456f75264c27bc691cb3183e338a",
       "version_major": 2,
       "version_minor": 0
      },
      "text/plain": [
       "Downloading (…)neration_config.json:   0%|          | 0.00/147 [00:00<?, ?B/s]"
      ]
     },
     "metadata": {},
     "output_type": "display_data"
    }
   ],
   "source": [
    "model = NewsHeadlineModel()"
   ]
  },
  {
   "cell_type": "code",
   "execution_count": 36,
   "metadata": {
    "colab": {
     "base_uri": "https://localhost:8080/",
     "height": 385
    },
    "id": "8qahrqdkPXmK",
    "outputId": "13dadf28-396c-4205-fab5-55851bb66302"
   },
   "outputs": [
    {
     "ename": "TypeError",
     "evalue": "ignored",
     "output_type": "error",
     "traceback": [
      "\u001b[0;31m---------------------------------------------------------------------------\u001b[0m",
      "\u001b[0;31mTypeError\u001b[0m                                 Traceback (most recent call last)",
      "\u001b[0;32m<ipython-input-36-1417b04e9ba7>\u001b[0m in \u001b[0;36m<cell line: 12>\u001b[0;34m()\u001b[0m\n\u001b[1;32m     10\u001b[0m \u001b[0mlogger\u001b[0m \u001b[0;34m=\u001b[0m \u001b[0mTensorBoardLogger\u001b[0m\u001b[0;34m(\u001b[0m\u001b[0;34m\"lightning_logs\"\u001b[0m\u001b[0;34m,\u001b[0m \u001b[0mname\u001b[0m\u001b[0;34m=\u001b[0m\u001b[0;34m\"news-headline\"\u001b[0m\u001b[0;34m)\u001b[0m\u001b[0;34m\u001b[0m\u001b[0;34m\u001b[0m\u001b[0m\n\u001b[1;32m     11\u001b[0m \u001b[0;34m\u001b[0m\u001b[0m\n\u001b[0;32m---> 12\u001b[0;31m trainer = pl.Trainer(\n\u001b[0m\u001b[1;32m     13\u001b[0m     \u001b[0mlogger\u001b[0m\u001b[0;34m=\u001b[0m\u001b[0mlogger\u001b[0m\u001b[0;34m,\u001b[0m\u001b[0;34m\u001b[0m\u001b[0;34m\u001b[0m\u001b[0m\n\u001b[1;32m     14\u001b[0m     \u001b[0mcallbacks\u001b[0m\u001b[0;34m=\u001b[0m\u001b[0mcheckpoint_callback\u001b[0m\u001b[0;34m,\u001b[0m\u001b[0;34m\u001b[0m\u001b[0;34m\u001b[0m\u001b[0m\n",
      "\u001b[0;32m/usr/local/lib/python3.10/dist-packages/pytorch_lightning/utilities/argparse.py\u001b[0m in \u001b[0;36minsert_env_defaults\u001b[0;34m(self, *args, **kwargs)\u001b[0m\n\u001b[1;32m     68\u001b[0m \u001b[0;34m\u001b[0m\u001b[0m\n\u001b[1;32m     69\u001b[0m         \u001b[0;31m# all args were already moved to kwargs\u001b[0m\u001b[0;34m\u001b[0m\u001b[0;34m\u001b[0m\u001b[0m\n\u001b[0;32m---> 70\u001b[0;31m         \u001b[0;32mreturn\u001b[0m \u001b[0mfn\u001b[0m\u001b[0;34m(\u001b[0m\u001b[0mself\u001b[0m\u001b[0;34m,\u001b[0m \u001b[0;34m**\u001b[0m\u001b[0mkwargs\u001b[0m\u001b[0;34m)\u001b[0m\u001b[0;34m\u001b[0m\u001b[0;34m\u001b[0m\u001b[0m\n\u001b[0m\u001b[1;32m     71\u001b[0m \u001b[0;34m\u001b[0m\u001b[0m\n\u001b[1;32m     72\u001b[0m     \u001b[0;32mreturn\u001b[0m \u001b[0mcast\u001b[0m\u001b[0;34m(\u001b[0m\u001b[0m_T\u001b[0m\u001b[0;34m,\u001b[0m \u001b[0minsert_env_defaults\u001b[0m\u001b[0;34m)\u001b[0m\u001b[0;34m\u001b[0m\u001b[0;34m\u001b[0m\u001b[0m\n",
      "\u001b[0;31mTypeError\u001b[0m: Trainer.__init__() got an unexpected keyword argument 'gpus'"
     ]
    }
   ],
   "source": [
    "checkpoint_callback = ModelCheckpoint(\n",
    "    dirpath=\"checkpoints\",\n",
    "    filename=\"best-checkpoint\",\n",
    "    save_top_k=1,\n",
    "    verbose=True,\n",
    "    monitor=\"val_loss\",\n",
    "    mode=\"min\"\n",
    ")\n",
    "\n",
    "logger = TensorBoardLogger(\"lightning_logs\", name=\"news-headline\")\n",
    "\n",
    "trainer = pl.Trainer(\n",
    "    logger=logger,\n",
    "    callbacks=checkpoint_callback,\n",
    "    max_epochs=N_EPOCHS,\n",
    "    gpus=1  # Specify the number of GPUs to use (if applicable)\n",
    ")\n"
   ]
  },
  {
   "cell_type": "code",
   "execution_count": null,
   "metadata": {
    "id": "F1xL4vPLPfDY"
   },
   "outputs": [],
   "source": [
    "trainer.fit(model, data_module)"
   ]
  },
  {
   "cell_type": "code",
   "execution_count": null,
   "metadata": {
    "id": "C4eCKqkvxxze"
   },
   "outputs": [],
   "source": [
    "a = model.val_loss_epoch"
   ]
  },
  {
   "cell_type": "code",
   "execution_count": null,
   "metadata": {
    "id": "HMAHoj1opNon"
   },
   "outputs": [],
   "source": [
    "a = torch.Tensor(a).cpu()"
   ]
  },
  {
   "cell_type": "code",
   "execution_count": null,
   "metadata": {
    "id": "25TlpMw8naVK"
   },
   "outputs": [],
   "source": [
    "plt.plot([0,1,2,3,4,5,6,7,8,9,10], a)"
   ]
  },
  {
   "cell_type": "code",
   "execution_count": null,
   "metadata": {
    "id": "TFM1-nMsPjgP"
   },
   "outputs": [],
   "source": [
    "# trained_model = NewsHeadlineModel.load_from_checkpoint(\n",
    "#     trainer.callbacks[3].best_model_path # model_checkpoint at index 3 in callbacks array\n",
    "# )\n",
    "\n",
    "# path to the checkpoint needs to be provided here\n",
    "custom_path = \"/content/drive/MyDrive/neney/best-checkpoint.ckpt\"\n",
    "\n",
    "trained_model = NewsHeadlineModel.load_from_checkpoint(custom_path)\n",
    "\n",
    "trained_model.freeze()"
   ]
  },
  {
   "cell_type": "code",
   "execution_count": null,
   "metadata": {
    "id": "Kg3pZL0dP78W"
   },
   "outputs": [],
   "source": [
    "def generate_headline(text):\n",
    "  text_encoding = tokenizer(\n",
    "      text,\n",
    "      max_length=512,\n",
    "      padding=\"max_length\",\n",
    "      truncation=True,\n",
    "      return_attention_mask=True,\n",
    "      add_special_tokens=True,\n",
    "      return_tensors=\"pt\"\n",
    "  )\n",
    "\n",
    "  generated_ids = trained_model.model.generate(\n",
    "      input_ids=text_encoding[\"input_ids\"],\n",
    "      attention_mask=text_encoding[\"attention_mask\"],\n",
    "      max_length=150,\n",
    "      num_beams=2, # beam search\n",
    "      repetition_penalty=2.5,\n",
    "      length_penalty=1.0,\n",
    "      early_stopping=True # To speed up the process\n",
    "  )\n",
    "\n",
    "  preds = [\n",
    "      tokenizer.decode(gen_id, skip_special_tokens=True, clean_up_tokenization_spaces=True)\n",
    "      for gen_id in generated_ids\n",
    "  ]\n",
    "\n",
    "  return \"\".join(preds)"
   ]
  },
  {
   "cell_type": "markdown",
   "metadata": {
    "id": "H39XLIDzsW5g"
   },
   "source": [
    "## Prediction examples"
   ]
  },
  {
   "cell_type": "code",
   "execution_count": null,
   "metadata": {
    "id": "l7PBiaPlQBTO"
   },
   "outputs": [],
   "source": [
    "sample_row = val_df.iloc[0]\n",
    "text = sample_row[\"article\"]"
   ]
  },
  {
   "cell_type": "code",
   "execution_count": null,
   "metadata": {
    "id": "nwcTLGbwQMsI"
   },
   "outputs": [],
   "source": [
    "print(len(text.split()))\n",
    "text"
   ]
  },
  {
   "cell_type": "code",
   "execution_count": null,
   "metadata": {
    "id": "C2i2XoynQP37"
   },
   "outputs": [],
   "source": [
    "sample_row[\"headline\"]"
   ]
  },
  {
   "cell_type": "code",
   "execution_count": null,
   "metadata": {
    "id": "Q9DWq0U4QSxc"
   },
   "outputs": [],
   "source": [
    "generate_headline(text)"
   ]
  },
  {
   "cell_type": "code",
   "execution_count": null,
   "metadata": {
    "id": "j-h1L47ksHA9"
   },
   "outputs": [],
   "source": [
    "sample_row = val_df.iloc[10]\n",
    "text = sample_row[\"article\"]"
   ]
  },
  {
   "cell_type": "code",
   "execution_count": null,
   "metadata": {
    "id": "ZqJmJ7Q2scF-"
   },
   "outputs": [],
   "source": [
    "print(len(text.split()))\n",
    "text"
   ]
  },
  {
   "cell_type": "code",
   "execution_count": null,
   "metadata": {
    "id": "brQssg26sdvV"
   },
   "outputs": [],
   "source": [
    "sample_row[\"headline\"]"
   ]
  },
  {
   "cell_type": "code",
   "execution_count": null,
   "metadata": {
    "id": "ivw02QASsgte"
   },
   "outputs": [],
   "source": [
    "generate_headline(text)"
   ]
  },
  {
   "cell_type": "markdown",
   "metadata": {
    "id": "0BMjM_SfWA9Z"
   },
   "source": [
    "## Rouge Evaluation"
   ]
  },
  {
   "cell_type": "code",
   "execution_count": null,
   "metadata": {
    "id": "rlbzn6g7WGJW"
   },
   "outputs": [],
   "source": [
    "!pip install rouge"
   ]
  },
  {
   "cell_type": "code",
   "execution_count": null,
   "metadata": {
    "id": "D-8ndcfRWMrf"
   },
   "outputs": [],
   "source": [
    "from rouge import Rouge\n",
    "ROUGE = Rouge()"
   ]
  },
  {
   "cell_type": "code",
   "execution_count": null,
   "metadata": {
    "id": "WbkyAABLWS12"
   },
   "outputs": [],
   "source": [
    "sample_row = val_df.iloc[1]\n",
    "text = sample_row[\"article\"]\n",
    "reference = sample_row[\"headline\"]\n",
    "candidate = generate_headline(text)"
   ]
  },
  {
   "cell_type": "code",
   "execution_count": null,
   "metadata": {
    "id": "U7w-qJ1PWf8t"
   },
   "outputs": [],
   "source": [
    "x = ROUGE.get_scores(candidate, reference)\n",
    "x[0]"
   ]
  },
  {
   "cell_type": "code",
   "execution_count": null,
   "metadata": {
    "id": "63hI8yQXW2v3"
   },
   "outputs": [],
   "source": [
    "type(x[0][\"rouge-1\"])"
   ]
  },
  {
   "cell_type": "code",
   "execution_count": null,
   "metadata": {
    "id": "pxZnDoVEafQq"
   },
   "outputs": [],
   "source": [
    "len(val_df.index)\n"
   ]
  },
  {
   "cell_type": "code",
   "execution_count": null,
   "metadata": {
    "id": "e0ef65I0cYsh"
   },
   "outputs": [],
   "source": [
    "res = {}\n",
    "res['rouge-1'] = {}\n",
    "res['rouge-2'] = {}\n",
    "res['rouge-l'] = {}\n",
    "for key in res:\n",
    "  res[key]['r'] = 0\n",
    "  res[key]['p'] = 0\n",
    "  res[key]['f'] = 0\n",
    "for index in range(len(val_df.index)):\n",
    "  sample_row = val_df.iloc[index]\n",
    "  text = sample_row[\"article\"]\n",
    "  reference = sample_row[\"headline\"]\n",
    "  candidate = generate_headline(text)\n",
    "  score = ROUGE.get_scores(candidate, reference)\n",
    "  for key in res:\n",
    "    res[key]['r'] += score[0][key]['r']\n",
    "    res[key]['p'] += score[0][key]['p']\n",
    "    res[key]['f'] += score[0][key]['f']\n",
    "for key in res:\n",
    "  res[key]['r'] /= len(val_df.index)\n",
    "  res[key]['p'] /= len(val_df.index)\n",
    "  res[key]['f'] /= len(val_df.index)\n",
    "res"
   ]
  },
  {
   "cell_type": "markdown",
   "metadata": {
    "id": "opJvlYS-B3Mo"
   },
   "source": [
    "## Semantic Similarity"
   ]
  },
  {
   "cell_type": "code",
   "execution_count": null,
   "metadata": {
    "id": "tL4xkqD9B6ZJ"
   },
   "outputs": [],
   "source": [
    "for index in range(len(val_df.index)):\n",
    "  sample_row = val_df.iloc[index]\n",
    "  text = sample_row[\"article\"]\n",
    "  reference = sample_row[\"headline\"]\n",
    "  candidate = generate_headline(text)\n",
    "  with open(\"predictions.txt\",\"a+\") as f:\n",
    "    f.write(candidate+\"\\n\")"
   ]
  },
  {
   "cell_type": "code",
   "execution_count": null,
   "metadata": {
    "id": "dxDISFtuiBn8"
   },
   "outputs": [],
   "source": [
    "!pip install sentence-transformers"
   ]
  },
  {
   "cell_type": "code",
   "execution_count": null,
   "metadata": {
    "id": "M4XAb9beiHvc"
   },
   "outputs": [],
   "source": [
    "from sentence_transformers import SentenceTransformer, util"
   ]
  },
  {
   "cell_type": "code",
   "execution_count": null,
   "metadata": {
    "id": "9HOV1ffNiK0t"
   },
   "outputs": [],
   "source": [
    "sentence_model = SentenceTransformer('all-MiniLM-L6-v2')"
   ]
  },
  {
   "cell_type": "code",
   "execution_count": null,
   "metadata": {
    "id": "cJscqRjIcSQN"
   },
   "outputs": [],
   "source": [
    "cosine_similarity = 0\n",
    "dot_product = 0\n",
    "with open(\"predictions.txt\", \"r\") as f:\n",
    "  lines = f.readlines()\n",
    "  lines = [line.strip() for line in lines]\n",
    "  for index, line in enumerate(lines):\n",
    "     sample_row = val_df.iloc[index]\n",
    "     reference = sample_row[\"headline\"]\n",
    "     en_1 = sentence_model.encode(reference)\n",
    "     en_2 = sentence_model.encode(line)\n",
    "     cosine_sim_result = util.cos_sim(en_1, en_2)\n",
    "     cosine_sim_result_float = cosine_sim_result.item()\n",
    "     dot_product_result = util.dot_score(en_1, en_2)\n",
    "     dot_product_result_float = dot_product_result.item()\n",
    "     cosine_similarity += cosine_sim_result_float\n",
    "     dot_product += dot_product_result_float\n",
    "  cosine_similarity /= len(val_df.index)\n",
    "  dot_product /= len(val_df.index)\n",
    "print(f'Cosine Similarity: {cosine_similarity} \\nDot Product: {dot_product}')"
   ]
  },
  {
   "cell_type": "code",
   "execution_count": null,
   "metadata": {
    "id": "lg_pCM5fhZCX"
   },
   "outputs": [],
   "source": []
  }
 ],
 "metadata": {
  "colab": {
   "provenance": []
  },
  "gpuClass": "standard",
  "kernelspec": {
   "display_name": "Python 3 (ipykernel)",
   "language": "python",
   "name": "python3"
  },
  "language_info": {
   "codemirror_mode": {
    "name": "ipython",
    "version": 3
   },
   "file_extension": ".py",
   "mimetype": "text/x-python",
   "name": "python",
   "nbconvert_exporter": "python",
   "pygments_lexer": "ipython3",
   "version": "3.10.9"
  },
  "widgets": {
   "application/vnd.jupyter.widget-state+json": {
    "0196c1f1431041cca23284d092b2193d": {
     "model_module": "@jupyter-widgets/base",
     "model_module_version": "1.2.0",
     "model_name": "LayoutModel",
     "state": {
      "_model_module": "@jupyter-widgets/base",
      "_model_module_version": "1.2.0",
      "_model_name": "LayoutModel",
      "_view_count": null,
      "_view_module": "@jupyter-widgets/base",
      "_view_module_version": "1.2.0",
      "_view_name": "LayoutView",
      "align_content": null,
      "align_items": null,
      "align_self": null,
      "border": null,
      "bottom": null,
      "display": null,
      "flex": null,
      "flex_flow": null,
      "grid_area": null,
      "grid_auto_columns": null,
      "grid_auto_flow": null,
      "grid_auto_rows": null,
      "grid_column": null,
      "grid_gap": null,
      "grid_row": null,
      "grid_template_areas": null,
      "grid_template_columns": null,
      "grid_template_rows": null,
      "height": null,
      "justify_content": null,
      "justify_items": null,
      "left": null,
      "margin": null,
      "max_height": null,
      "max_width": null,
      "min_height": null,
      "min_width": null,
      "object_fit": null,
      "object_position": null,
      "order": null,
      "overflow": null,
      "overflow_x": null,
      "overflow_y": null,
      "padding": null,
      "right": null,
      "top": null,
      "visibility": null,
      "width": null
     }
    },
    "0a2b5e1c34d343198d63a1869bab9f7d": {
     "model_module": "@jupyter-widgets/base",
     "model_module_version": "1.2.0",
     "model_name": "LayoutModel",
     "state": {
      "_model_module": "@jupyter-widgets/base",
      "_model_module_version": "1.2.0",
      "_model_name": "LayoutModel",
      "_view_count": null,
      "_view_module": "@jupyter-widgets/base",
      "_view_module_version": "1.2.0",
      "_view_name": "LayoutView",
      "align_content": null,
      "align_items": null,
      "align_self": null,
      "border": null,
      "bottom": null,
      "display": null,
      "flex": null,
      "flex_flow": null,
      "grid_area": null,
      "grid_auto_columns": null,
      "grid_auto_flow": null,
      "grid_auto_rows": null,
      "grid_column": null,
      "grid_gap": null,
      "grid_row": null,
      "grid_template_areas": null,
      "grid_template_columns": null,
      "grid_template_rows": null,
      "height": null,
      "justify_content": null,
      "justify_items": null,
      "left": null,
      "margin": null,
      "max_height": null,
      "max_width": null,
      "min_height": null,
      "min_width": null,
      "object_fit": null,
      "object_position": null,
      "order": null,
      "overflow": null,
      "overflow_x": null,
      "overflow_y": null,
      "padding": null,
      "right": null,
      "top": null,
      "visibility": null,
      "width": null
     }
    },
    "10d47119fd6346e088585ee46d78f47a": {
     "model_module": "@jupyter-widgets/controls",
     "model_module_version": "1.5.0",
     "model_name": "DescriptionStyleModel",
     "state": {
      "_model_module": "@jupyter-widgets/controls",
      "_model_module_version": "1.5.0",
      "_model_name": "DescriptionStyleModel",
      "_view_count": null,
      "_view_module": "@jupyter-widgets/base",
      "_view_module_version": "1.2.0",
      "_view_name": "StyleView",
      "description_width": ""
     }
    },
    "110af2c2ad374a589b7ea7c23dcac0cd": {
     "model_module": "@jupyter-widgets/controls",
     "model_module_version": "1.5.0",
     "model_name": "ProgressStyleModel",
     "state": {
      "_model_module": "@jupyter-widgets/controls",
      "_model_module_version": "1.5.0",
      "_model_name": "ProgressStyleModel",
      "_view_count": null,
      "_view_module": "@jupyter-widgets/base",
      "_view_module_version": "1.2.0",
      "_view_name": "StyleView",
      "bar_color": null,
      "description_width": ""
     }
    },
    "195251d73c884b3ba546e6f465f9ad51": {
     "model_module": "@jupyter-widgets/base",
     "model_module_version": "1.2.0",
     "model_name": "LayoutModel",
     "state": {
      "_model_module": "@jupyter-widgets/base",
      "_model_module_version": "1.2.0",
      "_model_name": "LayoutModel",
      "_view_count": null,
      "_view_module": "@jupyter-widgets/base",
      "_view_module_version": "1.2.0",
      "_view_name": "LayoutView",
      "align_content": null,
      "align_items": null,
      "align_self": null,
      "border": null,
      "bottom": null,
      "display": null,
      "flex": null,
      "flex_flow": null,
      "grid_area": null,
      "grid_auto_columns": null,
      "grid_auto_flow": null,
      "grid_auto_rows": null,
      "grid_column": null,
      "grid_gap": null,
      "grid_row": null,
      "grid_template_areas": null,
      "grid_template_columns": null,
      "grid_template_rows": null,
      "height": null,
      "justify_content": null,
      "justify_items": null,
      "left": null,
      "margin": null,
      "max_height": null,
      "max_width": null,
      "min_height": null,
      "min_width": null,
      "object_fit": null,
      "object_position": null,
      "order": null,
      "overflow": null,
      "overflow_x": null,
      "overflow_y": null,
      "padding": null,
      "right": null,
      "top": null,
      "visibility": null,
      "width": null
     }
    },
    "1bcaf3dd366040fbbd77770d875e274b": {
     "model_module": "@jupyter-widgets/base",
     "model_module_version": "1.2.0",
     "model_name": "LayoutModel",
     "state": {
      "_model_module": "@jupyter-widgets/base",
      "_model_module_version": "1.2.0",
      "_model_name": "LayoutModel",
      "_view_count": null,
      "_view_module": "@jupyter-widgets/base",
      "_view_module_version": "1.2.0",
      "_view_name": "LayoutView",
      "align_content": null,
      "align_items": null,
      "align_self": null,
      "border": null,
      "bottom": null,
      "display": null,
      "flex": null,
      "flex_flow": null,
      "grid_area": null,
      "grid_auto_columns": null,
      "grid_auto_flow": null,
      "grid_auto_rows": null,
      "grid_column": null,
      "grid_gap": null,
      "grid_row": null,
      "grid_template_areas": null,
      "grid_template_columns": null,
      "grid_template_rows": null,
      "height": null,
      "justify_content": null,
      "justify_items": null,
      "left": null,
      "margin": null,
      "max_height": null,
      "max_width": null,
      "min_height": null,
      "min_width": null,
      "object_fit": null,
      "object_position": null,
      "order": null,
      "overflow": null,
      "overflow_x": null,
      "overflow_y": null,
      "padding": null,
      "right": null,
      "top": null,
      "visibility": null,
      "width": null
     }
    },
    "1f12de98ba9d45a8bd05f073d9d453ec": {
     "model_module": "@jupyter-widgets/base",
     "model_module_version": "1.2.0",
     "model_name": "LayoutModel",
     "state": {
      "_model_module": "@jupyter-widgets/base",
      "_model_module_version": "1.2.0",
      "_model_name": "LayoutModel",
      "_view_count": null,
      "_view_module": "@jupyter-widgets/base",
      "_view_module_version": "1.2.0",
      "_view_name": "LayoutView",
      "align_content": null,
      "align_items": null,
      "align_self": null,
      "border": null,
      "bottom": null,
      "display": null,
      "flex": null,
      "flex_flow": null,
      "grid_area": null,
      "grid_auto_columns": null,
      "grid_auto_flow": null,
      "grid_auto_rows": null,
      "grid_column": null,
      "grid_gap": null,
      "grid_row": null,
      "grid_template_areas": null,
      "grid_template_columns": null,
      "grid_template_rows": null,
      "height": null,
      "justify_content": null,
      "justify_items": null,
      "left": null,
      "margin": null,
      "max_height": null,
      "max_width": null,
      "min_height": null,
      "min_width": null,
      "object_fit": null,
      "object_position": null,
      "order": null,
      "overflow": null,
      "overflow_x": null,
      "overflow_y": null,
      "padding": null,
      "right": null,
      "top": null,
      "visibility": null,
      "width": null
     }
    },
    "20a3ae49a48e48508df9b2a29b2fe4d5": {
     "model_module": "@jupyter-widgets/controls",
     "model_module_version": "1.5.0",
     "model_name": "HTMLModel",
     "state": {
      "_dom_classes": [],
      "_model_module": "@jupyter-widgets/controls",
      "_model_module_version": "1.5.0",
      "_model_name": "HTMLModel",
      "_view_count": null,
      "_view_module": "@jupyter-widgets/controls",
      "_view_module_version": "1.5.0",
      "_view_name": "HTMLView",
      "description": "",
      "description_tooltip": null,
      "layout": "IPY_MODEL_b6bd6078883a48b4ac64a1d72a0c1bcd",
      "placeholder": "​",
      "style": "IPY_MODEL_10d47119fd6346e088585ee46d78f47a",
      "value": "Downloading model.safetensors: 100%"
     }
    },
    "21a92ba486cb4b48a4ce53eaf4d59b3a": {
     "model_module": "@jupyter-widgets/base",
     "model_module_version": "1.2.0",
     "model_name": "LayoutModel",
     "state": {
      "_model_module": "@jupyter-widgets/base",
      "_model_module_version": "1.2.0",
      "_model_name": "LayoutModel",
      "_view_count": null,
      "_view_module": "@jupyter-widgets/base",
      "_view_module_version": "1.2.0",
      "_view_name": "LayoutView",
      "align_content": null,
      "align_items": null,
      "align_self": null,
      "border": null,
      "bottom": null,
      "display": null,
      "flex": null,
      "flex_flow": null,
      "grid_area": null,
      "grid_auto_columns": null,
      "grid_auto_flow": null,
      "grid_auto_rows": null,
      "grid_column": null,
      "grid_gap": null,
      "grid_row": null,
      "grid_template_areas": null,
      "grid_template_columns": null,
      "grid_template_rows": null,
      "height": null,
      "justify_content": null,
      "justify_items": null,
      "left": null,
      "margin": null,
      "max_height": null,
      "max_width": null,
      "min_height": null,
      "min_width": null,
      "object_fit": null,
      "object_position": null,
      "order": null,
      "overflow": null,
      "overflow_x": null,
      "overflow_y": null,
      "padding": null,
      "right": null,
      "top": null,
      "visibility": null,
      "width": null
     }
    },
    "30021f6fee7e47d583851458ca114bad": {
     "model_module": "@jupyter-widgets/base",
     "model_module_version": "1.2.0",
     "model_name": "LayoutModel",
     "state": {
      "_model_module": "@jupyter-widgets/base",
      "_model_module_version": "1.2.0",
      "_model_name": "LayoutModel",
      "_view_count": null,
      "_view_module": "@jupyter-widgets/base",
      "_view_module_version": "1.2.0",
      "_view_name": "LayoutView",
      "align_content": null,
      "align_items": null,
      "align_self": null,
      "border": null,
      "bottom": null,
      "display": null,
      "flex": null,
      "flex_flow": null,
      "grid_area": null,
      "grid_auto_columns": null,
      "grid_auto_flow": null,
      "grid_auto_rows": null,
      "grid_column": null,
      "grid_gap": null,
      "grid_row": null,
      "grid_template_areas": null,
      "grid_template_columns": null,
      "grid_template_rows": null,
      "height": null,
      "justify_content": null,
      "justify_items": null,
      "left": null,
      "margin": null,
      "max_height": null,
      "max_width": null,
      "min_height": null,
      "min_width": null,
      "object_fit": null,
      "object_position": null,
      "order": null,
      "overflow": null,
      "overflow_x": null,
      "overflow_y": null,
      "padding": null,
      "right": null,
      "top": null,
      "visibility": null,
      "width": null
     }
    },
    "30e531e000024fd984fad6bef3a9671b": {
     "model_module": "@jupyter-widgets/controls",
     "model_module_version": "1.5.0",
     "model_name": "HTMLModel",
     "state": {
      "_dom_classes": [],
      "_model_module": "@jupyter-widgets/controls",
      "_model_module_version": "1.5.0",
      "_model_name": "HTMLModel",
      "_view_count": null,
      "_view_module": "@jupyter-widgets/controls",
      "_view_module_version": "1.5.0",
      "_view_name": "HTMLView",
      "description": "",
      "description_tooltip": null,
      "layout": "IPY_MODEL_1bcaf3dd366040fbbd77770d875e274b",
      "placeholder": "​",
      "style": "IPY_MODEL_9cdbce3d01164d8ebc47f3fffb051cb8",
      "value": "Downloading (…)ve/main/spiece.model: 100%"
     }
    },
    "315848dd1f354c80a5ec36ef0dfc98b4": {
     "model_module": "@jupyter-widgets/controls",
     "model_module_version": "1.5.0",
     "model_name": "HBoxModel",
     "state": {
      "_dom_classes": [],
      "_model_module": "@jupyter-widgets/controls",
      "_model_module_version": "1.5.0",
      "_model_name": "HBoxModel",
      "_view_count": null,
      "_view_module": "@jupyter-widgets/controls",
      "_view_module_version": "1.5.0",
      "_view_name": "HBoxView",
      "box_style": "",
      "children": [
       "IPY_MODEL_30e531e000024fd984fad6bef3a9671b",
       "IPY_MODEL_633d4dabb20a4d2b93f78b27b8e6847a",
       "IPY_MODEL_993b2bba67d74440b76859469455547f"
      ],
      "layout": "IPY_MODEL_cf28d325989346a989da3c2c5e3a37f7"
     }
    },
    "34227760af304be393b021b813831cc0": {
     "model_module": "@jupyter-widgets/controls",
     "model_module_version": "1.5.0",
     "model_name": "ProgressStyleModel",
     "state": {
      "_model_module": "@jupyter-widgets/controls",
      "_model_module_version": "1.5.0",
      "_model_name": "ProgressStyleModel",
      "_view_count": null,
      "_view_module": "@jupyter-widgets/base",
      "_view_module_version": "1.2.0",
      "_view_name": "StyleView",
      "bar_color": null,
      "description_width": ""
     }
    },
    "371e917be222420db64b74f4efcf1c40": {
     "model_module": "@jupyter-widgets/controls",
     "model_module_version": "1.5.0",
     "model_name": "HTMLModel",
     "state": {
      "_dom_classes": [],
      "_model_module": "@jupyter-widgets/controls",
      "_model_module_version": "1.5.0",
      "_model_name": "HTMLModel",
      "_view_count": null,
      "_view_module": "@jupyter-widgets/controls",
      "_view_module_version": "1.5.0",
      "_view_name": "HTMLView",
      "description": "",
      "description_tooltip": null,
      "layout": "IPY_MODEL_95c903ef9771418faf1dfcb3482e12d8",
      "placeholder": "​",
      "style": "IPY_MODEL_8c238ea6918d4b708e3cec4bcd350ef7",
      "value": "Downloading (…)lve/main/config.json: 100%"
     }
    },
    "4c91b7d689c24dd897fd8c2bf2f7e8f8": {
     "model_module": "@jupyter-widgets/controls",
     "model_module_version": "1.5.0",
     "model_name": "HBoxModel",
     "state": {
      "_dom_classes": [],
      "_model_module": "@jupyter-widgets/controls",
      "_model_module_version": "1.5.0",
      "_model_name": "HBoxModel",
      "_view_count": null,
      "_view_module": "@jupyter-widgets/controls",
      "_view_module_version": "1.5.0",
      "_view_name": "HBoxView",
      "box_style": "",
      "children": [
       "IPY_MODEL_20a3ae49a48e48508df9b2a29b2fe4d5",
       "IPY_MODEL_c41ae2ca2a6b4400b089dfb68ae61b0c",
       "IPY_MODEL_e85c321a510e47389f044245fb5e485b"
      ],
      "layout": "IPY_MODEL_4ffda7a526b7499297b324103f62bb44"
     }
    },
    "4ffda7a526b7499297b324103f62bb44": {
     "model_module": "@jupyter-widgets/base",
     "model_module_version": "1.2.0",
     "model_name": "LayoutModel",
     "state": {
      "_model_module": "@jupyter-widgets/base",
      "_model_module_version": "1.2.0",
      "_model_name": "LayoutModel",
      "_view_count": null,
      "_view_module": "@jupyter-widgets/base",
      "_view_module_version": "1.2.0",
      "_view_name": "LayoutView",
      "align_content": null,
      "align_items": null,
      "align_self": null,
      "border": null,
      "bottom": null,
      "display": null,
      "flex": null,
      "flex_flow": null,
      "grid_area": null,
      "grid_auto_columns": null,
      "grid_auto_flow": null,
      "grid_auto_rows": null,
      "grid_column": null,
      "grid_gap": null,
      "grid_row": null,
      "grid_template_areas": null,
      "grid_template_columns": null,
      "grid_template_rows": null,
      "height": null,
      "justify_content": null,
      "justify_items": null,
      "left": null,
      "margin": null,
      "max_height": null,
      "max_width": null,
      "min_height": null,
      "min_width": null,
      "object_fit": null,
      "object_position": null,
      "order": null,
      "overflow": null,
      "overflow_x": null,
      "overflow_y": null,
      "padding": null,
      "right": null,
      "top": null,
      "visibility": null,
      "width": null
     }
    },
    "562ea41282f24ed1972b87adef90dc38": {
     "model_module": "@jupyter-widgets/controls",
     "model_module_version": "1.5.0",
     "model_name": "FloatProgressModel",
     "state": {
      "_dom_classes": [],
      "_model_module": "@jupyter-widgets/controls",
      "_model_module_version": "1.5.0",
      "_model_name": "FloatProgressModel",
      "_view_count": null,
      "_view_module": "@jupyter-widgets/controls",
      "_view_module_version": "1.5.0",
      "_view_name": "ProgressView",
      "bar_style": "success",
      "description": "",
      "description_tooltip": null,
      "layout": "IPY_MODEL_da03af9fff8b46a9b460707fb3509679",
      "max": 1389353,
      "min": 0,
      "orientation": "horizontal",
      "style": "IPY_MODEL_34227760af304be393b021b813831cc0",
      "value": 1389353
     }
    },
    "633d4dabb20a4d2b93f78b27b8e6847a": {
     "model_module": "@jupyter-widgets/controls",
     "model_module_version": "1.5.0",
     "model_name": "FloatProgressModel",
     "state": {
      "_dom_classes": [],
      "_model_module": "@jupyter-widgets/controls",
      "_model_module_version": "1.5.0",
      "_model_name": "FloatProgressModel",
      "_view_count": null,
      "_view_module": "@jupyter-widgets/controls",
      "_view_module_version": "1.5.0",
      "_view_name": "ProgressView",
      "bar_style": "success",
      "description": "",
      "description_tooltip": null,
      "layout": "IPY_MODEL_85899e798d4e4e08b9eec99f3fafe9be",
      "max": 791656,
      "min": 0,
      "orientation": "horizontal",
      "style": "IPY_MODEL_932a9f2f6e764da9b1a1b98f346a4f2e",
      "value": 791656
     }
    },
    "67356708724c4a2693afb6e009fd0f1a": {
     "model_module": "@jupyter-widgets/base",
     "model_module_version": "1.2.0",
     "model_name": "LayoutModel",
     "state": {
      "_model_module": "@jupyter-widgets/base",
      "_model_module_version": "1.2.0",
      "_model_name": "LayoutModel",
      "_view_count": null,
      "_view_module": "@jupyter-widgets/base",
      "_view_module_version": "1.2.0",
      "_view_name": "LayoutView",
      "align_content": null,
      "align_items": null,
      "align_self": null,
      "border": null,
      "bottom": null,
      "display": null,
      "flex": null,
      "flex_flow": null,
      "grid_area": null,
      "grid_auto_columns": null,
      "grid_auto_flow": null,
      "grid_auto_rows": null,
      "grid_column": null,
      "grid_gap": null,
      "grid_row": null,
      "grid_template_areas": null,
      "grid_template_columns": null,
      "grid_template_rows": null,
      "height": null,
      "justify_content": null,
      "justify_items": null,
      "left": null,
      "margin": null,
      "max_height": null,
      "max_width": null,
      "min_height": null,
      "min_width": null,
      "object_fit": null,
      "object_position": null,
      "order": null,
      "overflow": null,
      "overflow_x": null,
      "overflow_y": null,
      "padding": null,
      "right": null,
      "top": null,
      "visibility": null,
      "width": null
     }
    },
    "6a54661b32904745875a6f5fbb87972e": {
     "model_module": "@jupyter-widgets/controls",
     "model_module_version": "1.5.0",
     "model_name": "HBoxModel",
     "state": {
      "_dom_classes": [],
      "_model_module": "@jupyter-widgets/controls",
      "_model_module_version": "1.5.0",
      "_model_name": "HBoxModel",
      "_view_count": null,
      "_view_module": "@jupyter-widgets/controls",
      "_view_module_version": "1.5.0",
      "_view_name": "HBoxView",
      "box_style": "",
      "children": [
       "IPY_MODEL_371e917be222420db64b74f4efcf1c40",
       "IPY_MODEL_d3e64549f50546ca9802ed62d4e13bf6",
       "IPY_MODEL_a517d5b8121e4aa598500dc155076dda"
      ],
      "layout": "IPY_MODEL_da72fc3623984f0ebfacc1241377f835"
     }
    },
    "7f24cbb33fc0414091e7cbb242beecfd": {
     "model_module": "@jupyter-widgets/base",
     "model_module_version": "1.2.0",
     "model_name": "LayoutModel",
     "state": {
      "_model_module": "@jupyter-widgets/base",
      "_model_module_version": "1.2.0",
      "_model_name": "LayoutModel",
      "_view_count": null,
      "_view_module": "@jupyter-widgets/base",
      "_view_module_version": "1.2.0",
      "_view_name": "LayoutView",
      "align_content": null,
      "align_items": null,
      "align_self": null,
      "border": null,
      "bottom": null,
      "display": null,
      "flex": null,
      "flex_flow": null,
      "grid_area": null,
      "grid_auto_columns": null,
      "grid_auto_flow": null,
      "grid_auto_rows": null,
      "grid_column": null,
      "grid_gap": null,
      "grid_row": null,
      "grid_template_areas": null,
      "grid_template_columns": null,
      "grid_template_rows": null,
      "height": null,
      "justify_content": null,
      "justify_items": null,
      "left": null,
      "margin": null,
      "max_height": null,
      "max_width": null,
      "min_height": null,
      "min_width": null,
      "object_fit": null,
      "object_position": null,
      "order": null,
      "overflow": null,
      "overflow_x": null,
      "overflow_y": null,
      "padding": null,
      "right": null,
      "top": null,
      "visibility": null,
      "width": null
     }
    },
    "85899e798d4e4e08b9eec99f3fafe9be": {
     "model_module": "@jupyter-widgets/base",
     "model_module_version": "1.2.0",
     "model_name": "LayoutModel",
     "state": {
      "_model_module": "@jupyter-widgets/base",
      "_model_module_version": "1.2.0",
      "_model_name": "LayoutModel",
      "_view_count": null,
      "_view_module": "@jupyter-widgets/base",
      "_view_module_version": "1.2.0",
      "_view_name": "LayoutView",
      "align_content": null,
      "align_items": null,
      "align_self": null,
      "border": null,
      "bottom": null,
      "display": null,
      "flex": null,
      "flex_flow": null,
      "grid_area": null,
      "grid_auto_columns": null,
      "grid_auto_flow": null,
      "grid_auto_rows": null,
      "grid_column": null,
      "grid_gap": null,
      "grid_row": null,
      "grid_template_areas": null,
      "grid_template_columns": null,
      "grid_template_rows": null,
      "height": null,
      "justify_content": null,
      "justify_items": null,
      "left": null,
      "margin": null,
      "max_height": null,
      "max_width": null,
      "min_height": null,
      "min_width": null,
      "object_fit": null,
      "object_position": null,
      "order": null,
      "overflow": null,
      "overflow_x": null,
      "overflow_y": null,
      "padding": null,
      "right": null,
      "top": null,
      "visibility": null,
      "width": null
     }
    },
    "88805a6680204faca769310b8618ece2": {
     "model_module": "@jupyter-widgets/controls",
     "model_module_version": "1.5.0",
     "model_name": "ProgressStyleModel",
     "state": {
      "_model_module": "@jupyter-widgets/controls",
      "_model_module_version": "1.5.0",
      "_model_name": "ProgressStyleModel",
      "_view_count": null,
      "_view_module": "@jupyter-widgets/base",
      "_view_module_version": "1.2.0",
      "_view_name": "StyleView",
      "bar_color": null,
      "description_width": ""
     }
    },
    "8c238ea6918d4b708e3cec4bcd350ef7": {
     "model_module": "@jupyter-widgets/controls",
     "model_module_version": "1.5.0",
     "model_name": "DescriptionStyleModel",
     "state": {
      "_model_module": "@jupyter-widgets/controls",
      "_model_module_version": "1.5.0",
      "_model_name": "DescriptionStyleModel",
      "_view_count": null,
      "_view_module": "@jupyter-widgets/base",
      "_view_module_version": "1.2.0",
      "_view_name": "StyleView",
      "description_width": ""
     }
    },
    "8f59fdcf4de2425a820efe320a998a0c": {
     "model_module": "@jupyter-widgets/controls",
     "model_module_version": "1.5.0",
     "model_name": "FloatProgressModel",
     "state": {
      "_dom_classes": [],
      "_model_module": "@jupyter-widgets/controls",
      "_model_module_version": "1.5.0",
      "_model_name": "FloatProgressModel",
      "_view_count": null,
      "_view_module": "@jupyter-widgets/controls",
      "_view_module_version": "1.5.0",
      "_view_name": "ProgressView",
      "bar_style": "success",
      "description": "",
      "description_tooltip": null,
      "layout": "IPY_MODEL_21a92ba486cb4b48a4ce53eaf4d59b3a",
      "max": 147,
      "min": 0,
      "orientation": "horizontal",
      "style": "IPY_MODEL_110af2c2ad374a589b7ea7c23dcac0cd",
      "value": 147
     }
    },
    "932a9f2f6e764da9b1a1b98f346a4f2e": {
     "model_module": "@jupyter-widgets/controls",
     "model_module_version": "1.5.0",
     "model_name": "ProgressStyleModel",
     "state": {
      "_model_module": "@jupyter-widgets/controls",
      "_model_module_version": "1.5.0",
      "_model_name": "ProgressStyleModel",
      "_view_count": null,
      "_view_module": "@jupyter-widgets/base",
      "_view_module_version": "1.2.0",
      "_view_name": "StyleView",
      "bar_color": null,
      "description_width": ""
     }
    },
    "95c903ef9771418faf1dfcb3482e12d8": {
     "model_module": "@jupyter-widgets/base",
     "model_module_version": "1.2.0",
     "model_name": "LayoutModel",
     "state": {
      "_model_module": "@jupyter-widgets/base",
      "_model_module_version": "1.2.0",
      "_model_name": "LayoutModel",
      "_view_count": null,
      "_view_module": "@jupyter-widgets/base",
      "_view_module_version": "1.2.0",
      "_view_name": "LayoutView",
      "align_content": null,
      "align_items": null,
      "align_self": null,
      "border": null,
      "bottom": null,
      "display": null,
      "flex": null,
      "flex_flow": null,
      "grid_area": null,
      "grid_auto_columns": null,
      "grid_auto_flow": null,
      "grid_auto_rows": null,
      "grid_column": null,
      "grid_gap": null,
      "grid_row": null,
      "grid_template_areas": null,
      "grid_template_columns": null,
      "grid_template_rows": null,
      "height": null,
      "justify_content": null,
      "justify_items": null,
      "left": null,
      "margin": null,
      "max_height": null,
      "max_width": null,
      "min_height": null,
      "min_width": null,
      "object_fit": null,
      "object_position": null,
      "order": null,
      "overflow": null,
      "overflow_x": null,
      "overflow_y": null,
      "padding": null,
      "right": null,
      "top": null,
      "visibility": null,
      "width": null
     }
    },
    "9798c6669e1746a692aef5d2e0b0ba7f": {
     "model_module": "@jupyter-widgets/controls",
     "model_module_version": "1.5.0",
     "model_name": "HBoxModel",
     "state": {
      "_dom_classes": [],
      "_model_module": "@jupyter-widgets/controls",
      "_model_module_version": "1.5.0",
      "_model_name": "HBoxModel",
      "_view_count": null,
      "_view_module": "@jupyter-widgets/controls",
      "_view_module_version": "1.5.0",
      "_view_name": "HBoxView",
      "box_style": "",
      "children": [
       "IPY_MODEL_de2ff33fbb4b4b5589864278d9c25fa0",
       "IPY_MODEL_562ea41282f24ed1972b87adef90dc38",
       "IPY_MODEL_b7ab048f494843b6bd61551cc96a9082"
      ],
      "layout": "IPY_MODEL_f7cc1d2aedb148a3917858b93bae9d23"
     }
    },
    "993b2bba67d74440b76859469455547f": {
     "model_module": "@jupyter-widgets/controls",
     "model_module_version": "1.5.0",
     "model_name": "HTMLModel",
     "state": {
      "_dom_classes": [],
      "_model_module": "@jupyter-widgets/controls",
      "_model_module_version": "1.5.0",
      "_model_name": "HTMLModel",
      "_view_count": null,
      "_view_module": "@jupyter-widgets/controls",
      "_view_module_version": "1.5.0",
      "_view_name": "HTMLView",
      "description": "",
      "description_tooltip": null,
      "layout": "IPY_MODEL_0a2b5e1c34d343198d63a1869bab9f7d",
      "placeholder": "​",
      "style": "IPY_MODEL_a5179fbfbc6446f8a93423eaae7e14b5",
      "value": " 792k/792k [00:00&lt;00:00, 15.0MB/s]"
     }
    },
    "9cdbce3d01164d8ebc47f3fffb051cb8": {
     "model_module": "@jupyter-widgets/controls",
     "model_module_version": "1.5.0",
     "model_name": "DescriptionStyleModel",
     "state": {
      "_model_module": "@jupyter-widgets/controls",
      "_model_module_version": "1.5.0",
      "_model_name": "DescriptionStyleModel",
      "_view_count": null,
      "_view_module": "@jupyter-widgets/base",
      "_view_module_version": "1.2.0",
      "_view_name": "StyleView",
      "description_width": ""
     }
    },
    "a2ec9efdfff24095a8431299a96a5ac9": {
     "model_module": "@jupyter-widgets/controls",
     "model_module_version": "1.5.0",
     "model_name": "DescriptionStyleModel",
     "state": {
      "_model_module": "@jupyter-widgets/controls",
      "_model_module_version": "1.5.0",
      "_model_name": "DescriptionStyleModel",
      "_view_count": null,
      "_view_module": "@jupyter-widgets/base",
      "_view_module_version": "1.2.0",
      "_view_name": "StyleView",
      "description_width": ""
     }
    },
    "a5179fbfbc6446f8a93423eaae7e14b5": {
     "model_module": "@jupyter-widgets/controls",
     "model_module_version": "1.5.0",
     "model_name": "DescriptionStyleModel",
     "state": {
      "_model_module": "@jupyter-widgets/controls",
      "_model_module_version": "1.5.0",
      "_model_name": "DescriptionStyleModel",
      "_view_count": null,
      "_view_module": "@jupyter-widgets/base",
      "_view_module_version": "1.2.0",
      "_view_name": "StyleView",
      "description_width": ""
     }
    },
    "a517d5b8121e4aa598500dc155076dda": {
     "model_module": "@jupyter-widgets/controls",
     "model_module_version": "1.5.0",
     "model_name": "HTMLModel",
     "state": {
      "_dom_classes": [],
      "_model_module": "@jupyter-widgets/controls",
      "_model_module_version": "1.5.0",
      "_model_name": "HTMLModel",
      "_view_count": null,
      "_view_module": "@jupyter-widgets/controls",
      "_view_module_version": "1.5.0",
      "_view_name": "HTMLView",
      "description": "",
      "description_tooltip": null,
      "layout": "IPY_MODEL_1f12de98ba9d45a8bd05f073d9d453ec",
      "placeholder": "​",
      "style": "IPY_MODEL_ab453590fdc842f3ab573edb806ec4af",
      "value": " 1.21k/1.21k [00:00&lt;00:00, 76.4kB/s]"
     }
    },
    "ab453590fdc842f3ab573edb806ec4af": {
     "model_module": "@jupyter-widgets/controls",
     "model_module_version": "1.5.0",
     "model_name": "DescriptionStyleModel",
     "state": {
      "_model_module": "@jupyter-widgets/controls",
      "_model_module_version": "1.5.0",
      "_model_name": "DescriptionStyleModel",
      "_view_count": null,
      "_view_module": "@jupyter-widgets/base",
      "_view_module_version": "1.2.0",
      "_view_name": "StyleView",
      "description_width": ""
     }
    },
    "b2d3d29726ba44d4aa08096e45209bc5": {
     "model_module": "@jupyter-widgets/controls",
     "model_module_version": "1.5.0",
     "model_name": "HTMLModel",
     "state": {
      "_dom_classes": [],
      "_model_module": "@jupyter-widgets/controls",
      "_model_module_version": "1.5.0",
      "_model_name": "HTMLModel",
      "_view_count": null,
      "_view_module": "@jupyter-widgets/controls",
      "_view_module_version": "1.5.0",
      "_view_name": "HTMLView",
      "description": "",
      "description_tooltip": null,
      "layout": "IPY_MODEL_7f24cbb33fc0414091e7cbb242beecfd",
      "placeholder": "​",
      "style": "IPY_MODEL_a2ec9efdfff24095a8431299a96a5ac9",
      "value": " 147/147 [00:00&lt;00:00, 7.75kB/s]"
     }
    },
    "b38dc930edcb4c83a90169323218e32e": {
     "model_module": "@jupyter-widgets/controls",
     "model_module_version": "1.5.0",
     "model_name": "DescriptionStyleModel",
     "state": {
      "_model_module": "@jupyter-widgets/controls",
      "_model_module_version": "1.5.0",
      "_model_name": "DescriptionStyleModel",
      "_view_count": null,
      "_view_module": "@jupyter-widgets/base",
      "_view_module_version": "1.2.0",
      "_view_name": "StyleView",
      "description_width": ""
     }
    },
    "b6bd6078883a48b4ac64a1d72a0c1bcd": {
     "model_module": "@jupyter-widgets/base",
     "model_module_version": "1.2.0",
     "model_name": "LayoutModel",
     "state": {
      "_model_module": "@jupyter-widgets/base",
      "_model_module_version": "1.2.0",
      "_model_name": "LayoutModel",
      "_view_count": null,
      "_view_module": "@jupyter-widgets/base",
      "_view_module_version": "1.2.0",
      "_view_name": "LayoutView",
      "align_content": null,
      "align_items": null,
      "align_self": null,
      "border": null,
      "bottom": null,
      "display": null,
      "flex": null,
      "flex_flow": null,
      "grid_area": null,
      "grid_auto_columns": null,
      "grid_auto_flow": null,
      "grid_auto_rows": null,
      "grid_column": null,
      "grid_gap": null,
      "grid_row": null,
      "grid_template_areas": null,
      "grid_template_columns": null,
      "grid_template_rows": null,
      "height": null,
      "justify_content": null,
      "justify_items": null,
      "left": null,
      "margin": null,
      "max_height": null,
      "max_width": null,
      "min_height": null,
      "min_width": null,
      "object_fit": null,
      "object_position": null,
      "order": null,
      "overflow": null,
      "overflow_x": null,
      "overflow_y": null,
      "padding": null,
      "right": null,
      "top": null,
      "visibility": null,
      "width": null
     }
    },
    "b7ab048f494843b6bd61551cc96a9082": {
     "model_module": "@jupyter-widgets/controls",
     "model_module_version": "1.5.0",
     "model_name": "HTMLModel",
     "state": {
      "_dom_classes": [],
      "_model_module": "@jupyter-widgets/controls",
      "_model_module_version": "1.5.0",
      "_model_name": "HTMLModel",
      "_view_count": null,
      "_view_module": "@jupyter-widgets/controls",
      "_view_module_version": "1.5.0",
      "_view_name": "HTMLView",
      "description": "",
      "description_tooltip": null,
      "layout": "IPY_MODEL_30021f6fee7e47d583851458ca114bad",
      "placeholder": "​",
      "style": "IPY_MODEL_dd8fa367c47243e2987a7c4be2c92be6",
      "value": " 1.39M/1.39M [00:00&lt;00:00, 26.0MB/s]"
     }
    },
    "b85913ea31b24994a20920b3a08dddae": {
     "model_module": "@jupyter-widgets/controls",
     "model_module_version": "1.5.0",
     "model_name": "ProgressStyleModel",
     "state": {
      "_model_module": "@jupyter-widgets/controls",
      "_model_module_version": "1.5.0",
      "_model_name": "ProgressStyleModel",
      "_view_count": null,
      "_view_module": "@jupyter-widgets/base",
      "_view_module_version": "1.2.0",
      "_view_name": "StyleView",
      "bar_color": null,
      "description_width": ""
     }
    },
    "bc1995b2a7214676aeddc80658a66a2e": {
     "model_module": "@jupyter-widgets/controls",
     "model_module_version": "1.5.0",
     "model_name": "DescriptionStyleModel",
     "state": {
      "_model_module": "@jupyter-widgets/controls",
      "_model_module_version": "1.5.0",
      "_model_name": "DescriptionStyleModel",
      "_view_count": null,
      "_view_module": "@jupyter-widgets/base",
      "_view_module_version": "1.2.0",
      "_view_name": "StyleView",
      "description_width": ""
     }
    },
    "c41ae2ca2a6b4400b089dfb68ae61b0c": {
     "model_module": "@jupyter-widgets/controls",
     "model_module_version": "1.5.0",
     "model_name": "FloatProgressModel",
     "state": {
      "_dom_classes": [],
      "_model_module": "@jupyter-widgets/controls",
      "_model_module_version": "1.5.0",
      "_model_name": "FloatProgressModel",
      "_view_count": null,
      "_view_module": "@jupyter-widgets/controls",
      "_view_module_version": "1.5.0",
      "_view_name": "ProgressView",
      "bar_style": "success",
      "description": "",
      "description_tooltip": null,
      "layout": "IPY_MODEL_195251d73c884b3ba546e6f465f9ad51",
      "max": 891646390,
      "min": 0,
      "orientation": "horizontal",
      "style": "IPY_MODEL_b85913ea31b24994a20920b3a08dddae",
      "value": 891646390
     }
    },
    "c56fa1af7d1b41089ce6301211d5ba4e": {
     "model_module": "@jupyter-widgets/base",
     "model_module_version": "1.2.0",
     "model_name": "LayoutModel",
     "state": {
      "_model_module": "@jupyter-widgets/base",
      "_model_module_version": "1.2.0",
      "_model_name": "LayoutModel",
      "_view_count": null,
      "_view_module": "@jupyter-widgets/base",
      "_view_module_version": "1.2.0",
      "_view_name": "LayoutView",
      "align_content": null,
      "align_items": null,
      "align_self": null,
      "border": null,
      "bottom": null,
      "display": null,
      "flex": null,
      "flex_flow": null,
      "grid_area": null,
      "grid_auto_columns": null,
      "grid_auto_flow": null,
      "grid_auto_rows": null,
      "grid_column": null,
      "grid_gap": null,
      "grid_row": null,
      "grid_template_areas": null,
      "grid_template_columns": null,
      "grid_template_rows": null,
      "height": null,
      "justify_content": null,
      "justify_items": null,
      "left": null,
      "margin": null,
      "max_height": null,
      "max_width": null,
      "min_height": null,
      "min_width": null,
      "object_fit": null,
      "object_position": null,
      "order": null,
      "overflow": null,
      "overflow_x": null,
      "overflow_y": null,
      "padding": null,
      "right": null,
      "top": null,
      "visibility": null,
      "width": null
     }
    },
    "c88e446fb2574218a0a37d930a057451": {
     "model_module": "@jupyter-widgets/base",
     "model_module_version": "1.2.0",
     "model_name": "LayoutModel",
     "state": {
      "_model_module": "@jupyter-widgets/base",
      "_model_module_version": "1.2.0",
      "_model_name": "LayoutModel",
      "_view_count": null,
      "_view_module": "@jupyter-widgets/base",
      "_view_module_version": "1.2.0",
      "_view_name": "LayoutView",
      "align_content": null,
      "align_items": null,
      "align_self": null,
      "border": null,
      "bottom": null,
      "display": null,
      "flex": null,
      "flex_flow": null,
      "grid_area": null,
      "grid_auto_columns": null,
      "grid_auto_flow": null,
      "grid_auto_rows": null,
      "grid_column": null,
      "grid_gap": null,
      "grid_row": null,
      "grid_template_areas": null,
      "grid_template_columns": null,
      "grid_template_rows": null,
      "height": null,
      "justify_content": null,
      "justify_items": null,
      "left": null,
      "margin": null,
      "max_height": null,
      "max_width": null,
      "min_height": null,
      "min_width": null,
      "object_fit": null,
      "object_position": null,
      "order": null,
      "overflow": null,
      "overflow_x": null,
      "overflow_y": null,
      "padding": null,
      "right": null,
      "top": null,
      "visibility": null,
      "width": null
     }
    },
    "c9bf456f75264c27bc691cb3183e338a": {
     "model_module": "@jupyter-widgets/controls",
     "model_module_version": "1.5.0",
     "model_name": "HBoxModel",
     "state": {
      "_dom_classes": [],
      "_model_module": "@jupyter-widgets/controls",
      "_model_module_version": "1.5.0",
      "_model_name": "HBoxModel",
      "_view_count": null,
      "_view_module": "@jupyter-widgets/controls",
      "_view_module_version": "1.5.0",
      "_view_name": "HBoxView",
      "box_style": "",
      "children": [
       "IPY_MODEL_e164370796e748bb89157bf0d8e61196",
       "IPY_MODEL_8f59fdcf4de2425a820efe320a998a0c",
       "IPY_MODEL_b2d3d29726ba44d4aa08096e45209bc5"
      ],
      "layout": "IPY_MODEL_e628b4c1ba894d86b9e73a51565e1ab0"
     }
    },
    "cf28d325989346a989da3c2c5e3a37f7": {
     "model_module": "@jupyter-widgets/base",
     "model_module_version": "1.2.0",
     "model_name": "LayoutModel",
     "state": {
      "_model_module": "@jupyter-widgets/base",
      "_model_module_version": "1.2.0",
      "_model_name": "LayoutModel",
      "_view_count": null,
      "_view_module": "@jupyter-widgets/base",
      "_view_module_version": "1.2.0",
      "_view_name": "LayoutView",
      "align_content": null,
      "align_items": null,
      "align_self": null,
      "border": null,
      "bottom": null,
      "display": null,
      "flex": null,
      "flex_flow": null,
      "grid_area": null,
      "grid_auto_columns": null,
      "grid_auto_flow": null,
      "grid_auto_rows": null,
      "grid_column": null,
      "grid_gap": null,
      "grid_row": null,
      "grid_template_areas": null,
      "grid_template_columns": null,
      "grid_template_rows": null,
      "height": null,
      "justify_content": null,
      "justify_items": null,
      "left": null,
      "margin": null,
      "max_height": null,
      "max_width": null,
      "min_height": null,
      "min_width": null,
      "object_fit": null,
      "object_position": null,
      "order": null,
      "overflow": null,
      "overflow_x": null,
      "overflow_y": null,
      "padding": null,
      "right": null,
      "top": null,
      "visibility": null,
      "width": null
     }
    },
    "d3e64549f50546ca9802ed62d4e13bf6": {
     "model_module": "@jupyter-widgets/controls",
     "model_module_version": "1.5.0",
     "model_name": "FloatProgressModel",
     "state": {
      "_dom_classes": [],
      "_model_module": "@jupyter-widgets/controls",
      "_model_module_version": "1.5.0",
      "_model_name": "FloatProgressModel",
      "_view_count": null,
      "_view_module": "@jupyter-widgets/controls",
      "_view_module_version": "1.5.0",
      "_view_name": "ProgressView",
      "bar_style": "success",
      "description": "",
      "description_tooltip": null,
      "layout": "IPY_MODEL_c56fa1af7d1b41089ce6301211d5ba4e",
      "max": 1208,
      "min": 0,
      "orientation": "horizontal",
      "style": "IPY_MODEL_88805a6680204faca769310b8618ece2",
      "value": 1208
     }
    },
    "da03af9fff8b46a9b460707fb3509679": {
     "model_module": "@jupyter-widgets/base",
     "model_module_version": "1.2.0",
     "model_name": "LayoutModel",
     "state": {
      "_model_module": "@jupyter-widgets/base",
      "_model_module_version": "1.2.0",
      "_model_name": "LayoutModel",
      "_view_count": null,
      "_view_module": "@jupyter-widgets/base",
      "_view_module_version": "1.2.0",
      "_view_name": "LayoutView",
      "align_content": null,
      "align_items": null,
      "align_self": null,
      "border": null,
      "bottom": null,
      "display": null,
      "flex": null,
      "flex_flow": null,
      "grid_area": null,
      "grid_auto_columns": null,
      "grid_auto_flow": null,
      "grid_auto_rows": null,
      "grid_column": null,
      "grid_gap": null,
      "grid_row": null,
      "grid_template_areas": null,
      "grid_template_columns": null,
      "grid_template_rows": null,
      "height": null,
      "justify_content": null,
      "justify_items": null,
      "left": null,
      "margin": null,
      "max_height": null,
      "max_width": null,
      "min_height": null,
      "min_width": null,
      "object_fit": null,
      "object_position": null,
      "order": null,
      "overflow": null,
      "overflow_x": null,
      "overflow_y": null,
      "padding": null,
      "right": null,
      "top": null,
      "visibility": null,
      "width": null
     }
    },
    "da72fc3623984f0ebfacc1241377f835": {
     "model_module": "@jupyter-widgets/base",
     "model_module_version": "1.2.0",
     "model_name": "LayoutModel",
     "state": {
      "_model_module": "@jupyter-widgets/base",
      "_model_module_version": "1.2.0",
      "_model_name": "LayoutModel",
      "_view_count": null,
      "_view_module": "@jupyter-widgets/base",
      "_view_module_version": "1.2.0",
      "_view_name": "LayoutView",
      "align_content": null,
      "align_items": null,
      "align_self": null,
      "border": null,
      "bottom": null,
      "display": null,
      "flex": null,
      "flex_flow": null,
      "grid_area": null,
      "grid_auto_columns": null,
      "grid_auto_flow": null,
      "grid_auto_rows": null,
      "grid_column": null,
      "grid_gap": null,
      "grid_row": null,
      "grid_template_areas": null,
      "grid_template_columns": null,
      "grid_template_rows": null,
      "height": null,
      "justify_content": null,
      "justify_items": null,
      "left": null,
      "margin": null,
      "max_height": null,
      "max_width": null,
      "min_height": null,
      "min_width": null,
      "object_fit": null,
      "object_position": null,
      "order": null,
      "overflow": null,
      "overflow_x": null,
      "overflow_y": null,
      "padding": null,
      "right": null,
      "top": null,
      "visibility": null,
      "width": null
     }
    },
    "dd8fa367c47243e2987a7c4be2c92be6": {
     "model_module": "@jupyter-widgets/controls",
     "model_module_version": "1.5.0",
     "model_name": "DescriptionStyleModel",
     "state": {
      "_model_module": "@jupyter-widgets/controls",
      "_model_module_version": "1.5.0",
      "_model_name": "DescriptionStyleModel",
      "_view_count": null,
      "_view_module": "@jupyter-widgets/base",
      "_view_module_version": "1.2.0",
      "_view_name": "StyleView",
      "description_width": ""
     }
    },
    "de2ff33fbb4b4b5589864278d9c25fa0": {
     "model_module": "@jupyter-widgets/controls",
     "model_module_version": "1.5.0",
     "model_name": "HTMLModel",
     "state": {
      "_dom_classes": [],
      "_model_module": "@jupyter-widgets/controls",
      "_model_module_version": "1.5.0",
      "_model_name": "HTMLModel",
      "_view_count": null,
      "_view_module": "@jupyter-widgets/controls",
      "_view_module_version": "1.5.0",
      "_view_name": "HTMLView",
      "description": "",
      "description_tooltip": null,
      "layout": "IPY_MODEL_67356708724c4a2693afb6e009fd0f1a",
      "placeholder": "​",
      "style": "IPY_MODEL_bc1995b2a7214676aeddc80658a66a2e",
      "value": "Downloading (…)/main/tokenizer.json: 100%"
     }
    },
    "e164370796e748bb89157bf0d8e61196": {
     "model_module": "@jupyter-widgets/controls",
     "model_module_version": "1.5.0",
     "model_name": "HTMLModel",
     "state": {
      "_dom_classes": [],
      "_model_module": "@jupyter-widgets/controls",
      "_model_module_version": "1.5.0",
      "_model_name": "HTMLModel",
      "_view_count": null,
      "_view_module": "@jupyter-widgets/controls",
      "_view_module_version": "1.5.0",
      "_view_name": "HTMLView",
      "description": "",
      "description_tooltip": null,
      "layout": "IPY_MODEL_c88e446fb2574218a0a37d930a057451",
      "placeholder": "​",
      "style": "IPY_MODEL_b38dc930edcb4c83a90169323218e32e",
      "value": "Downloading (…)neration_config.json: 100%"
     }
    },
    "e628b4c1ba894d86b9e73a51565e1ab0": {
     "model_module": "@jupyter-widgets/base",
     "model_module_version": "1.2.0",
     "model_name": "LayoutModel",
     "state": {
      "_model_module": "@jupyter-widgets/base",
      "_model_module_version": "1.2.0",
      "_model_name": "LayoutModel",
      "_view_count": null,
      "_view_module": "@jupyter-widgets/base",
      "_view_module_version": "1.2.0",
      "_view_name": "LayoutView",
      "align_content": null,
      "align_items": null,
      "align_self": null,
      "border": null,
      "bottom": null,
      "display": null,
      "flex": null,
      "flex_flow": null,
      "grid_area": null,
      "grid_auto_columns": null,
      "grid_auto_flow": null,
      "grid_auto_rows": null,
      "grid_column": null,
      "grid_gap": null,
      "grid_row": null,
      "grid_template_areas": null,
      "grid_template_columns": null,
      "grid_template_rows": null,
      "height": null,
      "justify_content": null,
      "justify_items": null,
      "left": null,
      "margin": null,
      "max_height": null,
      "max_width": null,
      "min_height": null,
      "min_width": null,
      "object_fit": null,
      "object_position": null,
      "order": null,
      "overflow": null,
      "overflow_x": null,
      "overflow_y": null,
      "padding": null,
      "right": null,
      "top": null,
      "visibility": null,
      "width": null
     }
    },
    "e85c321a510e47389f044245fb5e485b": {
     "model_module": "@jupyter-widgets/controls",
     "model_module_version": "1.5.0",
     "model_name": "HTMLModel",
     "state": {
      "_dom_classes": [],
      "_model_module": "@jupyter-widgets/controls",
      "_model_module_version": "1.5.0",
      "_model_name": "HTMLModel",
      "_view_count": null,
      "_view_module": "@jupyter-widgets/controls",
      "_view_module_version": "1.5.0",
      "_view_name": "HTMLView",
      "description": "",
      "description_tooltip": null,
      "layout": "IPY_MODEL_0196c1f1431041cca23284d092b2193d",
      "placeholder": "​",
      "style": "IPY_MODEL_f08bc93f4d574b1e87239b6270a2bff5",
      "value": " 892M/892M [00:03&lt;00:00, 201MB/s]"
     }
    },
    "f08bc93f4d574b1e87239b6270a2bff5": {
     "model_module": "@jupyter-widgets/controls",
     "model_module_version": "1.5.0",
     "model_name": "DescriptionStyleModel",
     "state": {
      "_model_module": "@jupyter-widgets/controls",
      "_model_module_version": "1.5.0",
      "_model_name": "DescriptionStyleModel",
      "_view_count": null,
      "_view_module": "@jupyter-widgets/base",
      "_view_module_version": "1.2.0",
      "_view_name": "StyleView",
      "description_width": ""
     }
    },
    "f7cc1d2aedb148a3917858b93bae9d23": {
     "model_module": "@jupyter-widgets/base",
     "model_module_version": "1.2.0",
     "model_name": "LayoutModel",
     "state": {
      "_model_module": "@jupyter-widgets/base",
      "_model_module_version": "1.2.0",
      "_model_name": "LayoutModel",
      "_view_count": null,
      "_view_module": "@jupyter-widgets/base",
      "_view_module_version": "1.2.0",
      "_view_name": "LayoutView",
      "align_content": null,
      "align_items": null,
      "align_self": null,
      "border": null,
      "bottom": null,
      "display": null,
      "flex": null,
      "flex_flow": null,
      "grid_area": null,
      "grid_auto_columns": null,
      "grid_auto_flow": null,
      "grid_auto_rows": null,
      "grid_column": null,
      "grid_gap": null,
      "grid_row": null,
      "grid_template_areas": null,
      "grid_template_columns": null,
      "grid_template_rows": null,
      "height": null,
      "justify_content": null,
      "justify_items": null,
      "left": null,
      "margin": null,
      "max_height": null,
      "max_width": null,
      "min_height": null,
      "min_width": null,
      "object_fit": null,
      "object_position": null,
      "order": null,
      "overflow": null,
      "overflow_x": null,
      "overflow_y": null,
      "padding": null,
      "right": null,
      "top": null,
      "visibility": null,
      "width": null
     }
    }
   }
  }
 },
 "nbformat": 4,
 "nbformat_minor": 1
}
