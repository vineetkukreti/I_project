{
 "cells": [
  {
   "cell_type": "code",
   "execution_count": 21,
   "id": "dea6a09a",
   "metadata": {},
   "outputs": [
    {
     "name": "stdout",
     "output_type": "stream",
     "text": [
      "this used to be a city in Ukraine Moringa is or was sitting near done yet comma Don bass region of eastern Ukraine it used to be home to around 10,000 people is being contested by Ukrainian forces and russian-backed paramilitaries since war broke out in the region in 2014 but new photos and footage shows that the city has been practically wiped off the map since Russia launched its full invasion of Ukraine last year the city is completely destroyed said awesome shoes completely\n"
     ]
    }
   ],
   "source": [
    "# Open the file for reading\n",
    "with open(\"input_text.txt\", \"r\", encoding=\"utf-8\") as file:\n",
    "    # Read the entire content into a variable\n",
    "    text = file.read()\n",
    "\n",
    "# Now, you can work with the content of the file stored in the 'file_content' variable\n",
    "print(text)\n"
   ]
  },
  {
   "cell_type": "code",
   "execution_count": 22,
   "id": "57d3c7f8",
   "metadata": {},
   "outputs": [],
   "source": [
    "import cohere\n",
    "co = cohere.Client(\"PfJpA1EqhESDBKATKaEw82SuJND9ZJLQhxum4CuN\")"
   ]
  },
  {
   "cell_type": "code",
   "execution_count": 28,
   "id": "b0d4bc98",
   "metadata": {},
   "outputs": [],
   "source": [
    "response = co.summarize(\n",
    "    text=text,\n",
    "    model='summarize-xlarge', \n",
    "    length= 'long',\n",
    "    extractiveness='medium'\n",
    ")\n",
    "\n",
    "summary = response.summary"
   ]
  },
  {
   "cell_type": "code",
   "execution_count": 29,
   "id": "60b30a7a",
   "metadata": {},
   "outputs": [
    {
     "data": {
      "text/plain": [
       "\"Since the war broke out in Donbas, eastern Ukraine in 2014, the city of Moringa, which was home to around 10,000 people, has been contested by Ukrainian forces and Russian-backed paramilitaries. Now, nearly a year into Russia's full invasion of Ukraine, Moringa has been almost completely destroyed; the city does not exist anymore, according to reports. Following the invasion, stories emerged about how residents had been forced to shelter in basements for months on end, surviving on little food and with no access to electricity, water, or healthcare.\""
      ]
     },
     "execution_count": 29,
     "metadata": {},
     "output_type": "execute_result"
    }
   ],
   "source": [
    "summary"
   ]
  },
  {
   "cell_type": "code",
   "execution_count": 30,
   "id": "38cd3ece",
   "metadata": {},
   "outputs": [
    {
     "name": "stdout",
     "output_type": "stream",
     "text": [
      "Data written to output-Summarised_news.txt\n"
     ]
    }
   ],
   "source": [
    "# Open the file in write mode and write the text variable's content to it\n",
    "with open(file_name, 'w') as file:\n",
    "    file.write(summary)\n",
    "\n",
    "print(f\"Data written to {file_name}\")"
   ]
  },
  {
   "cell_type": "code",
   "execution_count": null,
   "id": "e11533e4",
   "metadata": {},
   "outputs": [],
   "source": []
  },
  {
   "cell_type": "code",
   "execution_count": null,
   "id": "83b088b0",
   "metadata": {},
   "outputs": [],
   "source": []
  },
  {
   "cell_type": "code",
   "execution_count": null,
   "id": "9b11c626",
   "metadata": {},
   "outputs": [],
   "source": []
  }
 ],
 "metadata": {
  "kernelspec": {
   "display_name": "Python 3 (ipykernel)",
   "language": "python",
   "name": "python3"
  },
  "language_info": {
   "codemirror_mode": {
    "name": "ipython",
    "version": 3
   },
   "file_extension": ".py",
   "mimetype": "text/x-python",
   "name": "python",
   "nbconvert_exporter": "python",
   "pygments_lexer": "ipython3",
   "version": "3.10.9"
  }
 },
 "nbformat": 4,
 "nbformat_minor": 5
}
