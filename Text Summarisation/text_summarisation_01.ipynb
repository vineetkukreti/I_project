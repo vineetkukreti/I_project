{
 "cells": [
  {
   "cell_type": "code",
   "execution_count": 54,
   "metadata": {
    "id": "LXUYevG-qFMC"
   },
   "outputs": [],
   "source": [
    "# !pip install newspaper3k"
   ]
  },
  {
   "cell_type": "code",
   "execution_count": 55,
   "metadata": {
    "colab": {
     "base_uri": "https://localhost:8080/"
    },
    "id": "S_6qz9NEpfJK",
    "outputId": "4328cb69-bbfb-4dd5-bf10-87f8f112d6cf"
   },
   "outputs": [
    {
     "name": "stdout",
     "output_type": "stream",
     "text": [
      "Title: FBI probing whether Egyptian intelligence played a role in Menendez case\n",
      "Text: Create your free profile or log in to save this article\n",
      "\n",
      "Create your free profile or log in to save this article\n",
      "\n",
      "The FBI is investigating whether Egypt's intelligence services might have been involved in the alleged bribery scheme described in the indictment of Sen. Bob Menendez and his wife, sources familiar with the matter told NBC News.\n",
      "\n",
      "The counterintelligence investigation is in addition to the federal corruption case that accuses Menendez, D-N.J., of accepting hundreds of thousands of dollars in bribes, the sources said. As chairman of the Senate Foreign Relations Committee, Menendez helped oversee billions of dollars in U.S. aid to Egypt. He stepped down as chairman after he was indicted.\n",
      "\n",
      "Investigators want to know whether Egyptian intelligence officials or their associates tried to gain access to Menendez through his wife, Nadine, the sources said.\n",
      "\n",
      "According to a three-count indictment unsealed last week, Menendez accepted lavish bribes to wield his political position for the benefit the Egyptian government and to enrich a group of Egyptian American businessmen named as co-defendants.\n",
      "\n",
      "The three New Jersey-based businessmen named as co-defendants, who are accused of providing bribes from “hundreds of thousands of dollars” in gold bars to a Mercedes-Benz convertible worth more than $60,000, are Wael Hana, Jose Uribe and Fred Daibes.\n",
      "\n",
      "Uribe and Daibes are scheduled to be arraigned Wednesday, along with Menendez and his wife.\n",
      "\n",
      "Hana was arraigned Tuesday and pleaded not guilty in federal court in New York City.\n",
      "\n",
      "Hana’s lawyer, Larry Lustberg, denied that Hana has ties to Egyptian intelligence. He said that Hana and Nadine Menendez have been friends for years — and that the friendship will be part of their defense against the bribery charges.\n",
      "\n",
      "Each of the defendants is charged with conspiracy to commit bribery and conspiracy to commit honest services fraud. Menendez and his wife face an additional charge of conspiracy to commit extortion under color of official right.\n",
      "\n",
      "A lawyer for Nadine Menendez declined to comment when asked whether she might have been used by Egyptian intelligence officials. Menendez's Senate office did not respond to requests for comment.\n",
      "\n",
      "Frank Figliuzzi, an NBC News security analyst and former assistant director for counterintelligence at the FBI, said Menendez's post atop the Foreign Relations Committee put him \"in a bull’s-eye position for foreign intelligence services that are looking to have him make decisions in their favor, including military equipment and materiel decisions on funding.\"\n",
      "\n",
      "\"The question here is whether this all started chronologically with the senator’s marriage, with the senator needing plausible deniability or an arm’s length from any transactions that might be happening with intelligence operatives,\" Figliuzzi said. \"All of that should be looked at from a counterintelligence perspective.\"\n",
      "\n",
      "Menendez has denied all of the charges and has resisted calls to resign.\n",
      "\n",
      "The Egyptian Embassy in Washington did not immediately respond to a request for comment Tuesday night.\n",
      "Author: ['Https', 'Media-Cldnry.S-Nbcnews.Com Image Upload Newscms Jonathan_Dienst_Byline.Jpg', 'Jonathan Dienst', 'Media-Cldnry.S-Nbcnews.Com Image Upload Newscms Dilanianmug.Jpg', 'Ken Dilanian', 'Courtney Copenhagen', 'Zoë Richards', 'Jonathan Dienst Is Chief Justice Contributor For Nbc News', 'Chief Investigative Reporter For Wnbc-Tv In New York.', 'Ken Dilanian Is The Justice']\n",
      "Publication Date: None\n"
     ]
    }
   ],
   "source": [
    "from newspaper import Article\n",
    "\n",
    "# URL of the news article you want to download\n",
    "url = 'https://www.nbcnews.com/politics/justice-department/fbi-probing-whether-egyptian-intelligence-played-role-menendez-case-rcna117531'\n",
    "\n",
    "# Create an Article object\n",
    "article = Article(url)\n",
    "\n",
    "# Download the article content\n",
    "article.download()\n",
    "\n",
    "# Parse the article content\n",
    "article.parse()\n",
    "\n",
    "# Print the article title\n",
    "print(\"Title:\", article.title)\n",
    "\n",
    "# Print the article text\n",
    "print(\"Text:\", article.text)\n",
    "\n",
    "# You can also access other article metadata like author, publication date, and more\n",
    "print(\"Author:\", article.authors)\n",
    "print(\"Publication Date:\", article.publish_date)\n",
    "\n",
    "# Save the article text to a file if needed\n",
    "with open('article.txt', 'w', encoding='utf-8') as file:\n",
    "    file.write(article.text)\n"
   ]
  },
  {
   "cell_type": "code",
   "execution_count": 56,
   "metadata": {
    "colab": {
     "base_uri": "https://localhost:8080/",
     "height": 128
    },
    "id": "1jHX6EZprKkE",
    "outputId": "aa49a362-d8c4-480f-f092-36ec1c74734f"
   },
   "outputs": [
    {
     "data": {
      "application/vnd.google.colaboratory.intrinsic+json": {
       "type": "string"
      },
      "text/plain": [
       "'Create your free profile or log in to save this article\\n\\nCreate your free profile or log in to save this article\\n\\nThe FBI is investigating whether Egypt\\'s intelligence services might have been involved in the alleged bribery scheme described in the indictment of Sen. Bob Menendez and his wife, sources familiar with the matter told NBC News.\\n\\nThe counterintelligence investigation is in addition to the federal corruption case that accuses Menendez, D-N.J., of accepting hundreds of thousands of dollars in bribes, the sources said. As chairman of the Senate Foreign Relations Committee, Menendez helped oversee billions of dollars in U.S. aid to Egypt. He stepped down as chairman after he was indicted.\\n\\nInvestigators want to know whether Egyptian intelligence officials or their associates tried to gain access to Menendez through his wife, Nadine, the sources said.\\n\\nAccording to a three-count indictment unsealed last week, Menendez accepted lavish bribes to wield his political position for the benefit the Egyptian government and to enrich a group of Egyptian American businessmen named as co-defendants.\\n\\nThe three New Jersey-based businessmen named as co-defendants, who are accused of providing bribes from “hundreds of thousands of dollars” in gold bars to a Mercedes-Benz convertible worth more than $60,000, are Wael Hana, Jose Uribe and Fred Daibes.\\n\\nUribe and Daibes are scheduled to be arraigned Wednesday, along with Menendez and his wife.\\n\\nHana was arraigned Tuesday and pleaded not guilty in federal court in New York City.\\n\\nHana’s lawyer, Larry Lustberg, denied that Hana has ties to Egyptian intelligence. He said that Hana and Nadine Menendez have been friends for years — and that the friendship will be part of their defense against the bribery charges.\\n\\nEach of the defendants is charged with conspiracy to commit bribery and conspiracy to commit honest services fraud. Menendez and his wife face an additional charge of conspiracy to commit extortion under color of official right.\\n\\nA lawyer for Nadine Menendez declined to comment when asked whether she might have been used by Egyptian intelligence officials. Menendez\\'s Senate office did not respond to requests for comment.\\n\\nFrank Figliuzzi, an NBC News security analyst and former assistant director for counterintelligence at the FBI, said Menendez\\'s post atop the Foreign Relations Committee put him \"in a bull’s-eye position for foreign intelligence services that are looking to have him make decisions in their favor, including military equipment and materiel decisions on funding.\"\\n\\n\"The question here is whether this all started chronologically with the senator’s marriage, with the senator needing plausible deniability or an arm’s length from any transactions that might be happening with intelligence operatives,\" Figliuzzi said. \"All of that should be looked at from a counterintelligence perspective.\"\\n\\nMenendez has denied all of the charges and has resisted calls to resign.\\n\\nThe Egyptian Embassy in Washington did not immediately respond to a request for comment Tuesday night.'"
      ]
     },
     "execution_count": 56,
     "metadata": {},
     "output_type": "execute_result"
    }
   ],
   "source": [
    "article.text"
   ]
  },
  {
   "cell_type": "code",
   "execution_count": 57,
   "metadata": {
    "id": "tz6_oUA9sh4_"
   },
   "outputs": [],
   "source": [
    "# !pip install spacy\n",
    "# !pip install heapq3"
   ]
  },
  {
   "cell_type": "code",
   "execution_count": 58,
   "metadata": {
    "id": "MQW5VZgZsyto"
   },
   "outputs": [],
   "source": [
    "import spacy\n",
    "from spacy.lang.en.stop_words import STOP_WORDS\n",
    "from string import punctuation\n",
    "from heapq import nlargest\n",
    "\n",
    "# Your code here\n"
   ]
  },
  {
   "cell_type": "code",
   "execution_count": 59,
   "metadata": {
    "id": "0Y0hq6ONs0Ul"
   },
   "outputs": [],
   "source": [
    "def summarize(text, per):\n",
    "    nlp = spacy.load('en_core_web_sm')\n",
    "    doc= nlp(text)\n",
    "    tokens=[token.text for token in doc]\n",
    "    word_frequencies={}\n",
    "    for word in doc:\n",
    "        if word.text.lower() not in list(STOP_WORDS):\n",
    "            if word.text.lower() not in punctuation:\n",
    "                if word.text not in word_frequencies.keys():\n",
    "                    word_frequencies[word.text] = 1\n",
    "                else:\n",
    "                    word_frequencies[word.text] += 1\n",
    "    max_frequency=max(word_frequencies.values())\n",
    "    for word in word_frequencies.keys():\n",
    "        word_frequencies[word]=word_frequencies[word]/max_frequency\n",
    "    sentence_tokens= [sent for sent in doc.sents]\n",
    "    sentence_scores = {}\n",
    "    for sent in sentence_tokens:\n",
    "        for word in sent:\n",
    "            if word.text.lower() in word_frequencies.keys():\n",
    "                if sent not in sentence_scores.keys():\n",
    "                    sentence_scores[sent]=word_frequencies[word.text.lower()]\n",
    "                else:\n",
    "                    sentence_scores[sent]+=word_frequencies[word.text.lower()]\n",
    "    select_length=int(len(sentence_tokens)*per)\n",
    "    summary=nlargest(select_length, sentence_scores,key=sentence_scores.get)\n",
    "    final_summary=[word.text for word in summary]\n",
    "    summary=''.join(final_summary)\n",
    "    return summary"
   ]
  },
  {
   "cell_type": "code",
   "execution_count": 63,
   "metadata": {
    "id": "iu769Ex1tRcH"
   },
   "outputs": [],
   "source": [
    "output = summarize(article.text, 0.05)"
   ]
  },
  {
   "cell_type": "code",
   "execution_count": 64,
   "metadata": {
    "colab": {
     "base_uri": "https://localhost:8080/"
    },
    "id": "Fujnac3Vyafa",
    "outputId": "90e4a44a-b1a9-4b06-ac90-4b8fa9588f59"
   },
   "outputs": [
    {
     "name": "stdout",
     "output_type": "stream",
     "text": [
      "Output has been saved to output.txt\n"
     ]
    }
   ],
   "source": [
    "\n",
    "with open(\"output.txt\", \"w\", encoding=\"utf-8\") as file:\n",
    "    file.write(output)\n",
    "\n",
    "print(\"Output has been saved to output.txt\")\n"
   ]
  },
  {
   "cell_type": "code",
   "execution_count": null,
   "metadata": {
    "id": "HnOXzHZfyeuy"
   },
   "outputs": [],
   "source": []
  }
 ],
 "metadata": {
  "colab": {
   "provenance": []
  },
  "kernelspec": {
   "display_name": "Python 3 (ipykernel)",
   "language": "python",
   "name": "python3"
  },
  "language_info": {
   "codemirror_mode": {
    "name": "ipython",
    "version": 3
   },
   "file_extension": ".py",
   "mimetype": "text/x-python",
   "name": "python",
   "nbconvert_exporter": "python",
   "pygments_lexer": "ipython3",
   "version": "3.10.9"
  }
 },
 "nbformat": 4,
 "nbformat_minor": 1
}
