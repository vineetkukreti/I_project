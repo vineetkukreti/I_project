{
 "cells": [
  {
   "cell_type": "code",
   "execution_count": 1,
   "id": "1efc8194",
   "metadata": {},
   "outputs": [
    {
     "ename": "SyntaxError",
     "evalue": "invalid syntax (735301266.py, line 2)",
     "output_type": "error",
     "traceback": [
      "\u001b[1;36m  Cell \u001b[1;32mIn[1], line 2\u001b[1;36m\u001b[0m\n\u001b[1;33m    API_RESPONSE=$(curl -d $BODY -H \"Content-Type: text/plain\" -H \"x-api-key: $APIKEY\" https://api.narakeet.com/text-to-speech/wav)\u001b[0m\n\u001b[1;37m                 ^\u001b[0m\n\u001b[1;31mSyntaxError\u001b[0m\u001b[1;31m:\u001b[0m invalid syntax\n"
     ]
    }
   ],
   "source": [
    "BODY=\"Hi there, this is your API speaking\"\n",
    "API_RESPONSE=$(curl -d $BODY -H \"Content-Type: text/plain\" -H \"x-api-key: $APIKEY\" https://api.narakeet.com/text-to-speech/wav)\n",
    "STATUS_URL=$(echo $API_RESPONSE | jq -r .statusUrl)"
   ]
  },
  {
   "cell_type": "code",
   "execution_count": null,
   "id": "2b26073a",
   "metadata": {},
   "outputs": [],
   "source": []
  }
 ],
 "metadata": {
  "kernelspec": {
   "display_name": "Python 3 (ipykernel)",
   "language": "python",
   "name": "python3"
  },
  "language_info": {
   "codemirror_mode": {
    "name": "ipython",
    "version": 3
   },
   "file_extension": ".py",
   "mimetype": "text/x-python",
   "name": "python",
   "nbconvert_exporter": "python",
   "pygments_lexer": "ipython3",
   "version": "3.10.9"
  }
 },
 "nbformat": 4,
 "nbformat_minor": 5
}
