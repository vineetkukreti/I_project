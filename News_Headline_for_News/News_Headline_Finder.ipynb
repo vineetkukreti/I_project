{
 "cells": [
  {
   "cell_type": "code",
   "execution_count": 1,
   "id": "811d7a43",
   "metadata": {},
   "outputs": [
    {
     "name": "stdout",
     "output_type": "stream",
     "text": [
      "this used to be a city in Ukraine Moringa is or was sitting near done yet comma Don bass region of eastern Ukraine it used to be home to around 10,000 people is being contested by Ukrainian forces and russian-backed paramilitaries since war broke out in the region in 2014 but new photos and footage shows that the city has been practically wiped off the map since Russia launched its full invasion of Ukraine last year the city is completely destroyed said awesome shoes completely\n"
     ]
    }
   ],
   "source": [
    "# Open the file for reading\n",
    "with open(\"input_text.txt\", \"r\", encoding=\"utf-8\") as file:\n",
    "    # Read the entire content into a variable\n",
    "    text = file.read()\n",
    "\n",
    "# Now, you can work with the content of the file stored in the 'file_content' variable\n",
    "print(text)"
   ]
  },
  {
   "cell_type": "code",
   "execution_count": 2,
   "id": "52de6406",
   "metadata": {},
   "outputs": [],
   "source": [
    "import cohere"
   ]
  },
  {
   "cell_type": "code",
   "execution_count": 3,
   "id": "ecec9bbe",
   "metadata": {},
   "outputs": [
    {
     "name": "stdout",
     "output_type": "stream",
     "text": [
      "Prediction:  'This city in Ukraine is gone': Soviet-era settlement 'completely destroyed' in Russian invasion\n"
     ]
    }
   ],
   "source": [
    "# this is for news heading\n",
    "co = cohere.Client('PfJpA1EqhESDBKATKaEw82SuJND9ZJLQhxum4CuN') # This is your trial API key\n",
    "response = co.generate(\n",
    "  model='command',\n",
    "  prompt='Give a headline for this news '+text,\n",
    "  max_tokens=100,\n",
    "  temperature=0.9,\n",
    "  k=0,\n",
    "  stop_sequences=[],\n",
    "  return_likelihoods='NONE')\n",
    "print('Prediction: {}'.format(response.generations[0].text))"
   ]
  },
  {
   "cell_type": "code",
   "execution_count": 4,
   "id": "e9e4db58",
   "metadata": {},
   "outputs": [],
   "source": [
    "headline = response.generations[0].text"
   ]
  },
  {
   "cell_type": "code",
   "execution_count": 5,
   "id": "b5427786",
   "metadata": {},
   "outputs": [
    {
     "name": "stdout",
     "output_type": "stream",
     "text": [
      "Content saved to news_headline.txt\n"
     ]
    }
   ],
   "source": [
    "\n",
    "text = headline\n",
    "\n",
    "file_name = \"news_headline.txt\"\n",
    "with open(file_name, 'w') as file:\n",
    "    file.write(text)\n",
    "\n",
    "print(f\"Content saved to {file_name}\")\n"
   ]
  },
  {
   "cell_type": "code",
   "execution_count": null,
   "id": "ddab3127",
   "metadata": {},
   "outputs": [],
   "source": []
  }
 ],
 "metadata": {
  "kernelspec": {
   "display_name": "Python 3 (ipykernel)",
   "language": "python",
   "name": "python3"
  },
  "language_info": {
   "codemirror_mode": {
    "name": "ipython",
    "version": 3
   },
   "file_extension": ".py",
   "mimetype": "text/x-python",
   "name": "python",
   "nbconvert_exporter": "python",
   "pygments_lexer": "ipython3",
   "version": "3.10.9"
  }
 },
 "nbformat": 4,
 "nbformat_minor": 5
}
